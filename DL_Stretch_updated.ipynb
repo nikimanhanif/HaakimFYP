{
 "cells": [
  {
   "cell_type": "markdown",
   "metadata": {},
   "source": [
    "# Topic:\n",
    "Recognition of the Stretching Body in a Video:\n",
    "---\n",
    "- In our daily lives we stretch before we hit the gym or start our morning schedule. One of the motivations for this topic could be that if we consider a camera fitted in a smart home where it could detect if a person is stretching or not, by this we could be able to record the number of times a person performed stretching in a day. With this we can set up a health monitor that could detect if the person performed stretching enough number of times or not.\n",
    "- Challenge is to detect the activity (Stretching) through the videos. So, i would start of with using different type of Neural Network architectures to classify whether the \"Stretching\" is being performed in the video or not.\n",
    "- The problem would be a binary class classification model where there would be two labels, \"Stretching\" and \"No Stretching\"."
   ]
  },
  {
   "cell_type": "markdown",
   "metadata": {},
   "source": [
    "General Libraries:\n",
    "---\n",
    "Below are the classes available in python that are used and some corresponding functions used from them."
   ]
  },
  {
   "cell_type": "code",
   "execution_count": 29,
   "metadata": {
    "collapsed": false,
    "deletable": true,
    "editable": true
   },
   "outputs": [],
   "source": [
    "import cv2\n",
    "import math\n",
    "import matplotlib.pyplot as plt\n",
    "%matplotlib inline\n",
    "import pandas as pd\n",
    "import numpy as np\n",
    "from keras.preprocessing import image\n",
    "import numpy as np\n",
    "from keras.utils import np_utils\n",
    "from skimage.transform import resize\n",
    "from PIL import Image\n",
    "import re\n",
    "import os\n",
    "import random\n",
    "import shutil\n",
    "import keras\n",
    "from keras.models import load_model"
   ]
  },
  {
   "cell_type": "markdown",
   "metadata": {},
   "source": [
    "Data Gathering and Generation:\n",
    "---\n",
    "- As explained above, for this project of detecting a stretching body, the dataset for stretching body was not available online. Thus, i collected some videos of people performing different type of stretches from youtube. To generalize the data well enough, i looked for videos of same stretching maneuvers performed at different camera angles and from different people. Also, i tried to include videos where a person is dancing or lying on the floor just to make model learn that any maneuver that seems close to stretching but is not actually a stretching maneuver.\n",
    "- I downloaded about 40 different videos which had a many stretching maneuvers performed in them at different times. Mostly videos were about 10 to 25 min long. So, i used \"MovieMaker Tool\" to cut long videos into short videos to prepare the training dataset. E.g i had a video in which a person performed 10 stretches and i cut the whole video into 10 different shorter videos of stretching body. Any part of the video in between those 10 stretches had served as candidate videos for non-stretching data.\n",
    "- Most of the videos were pretty short ranging from 5s to 15s, and any single video contained just one stretching maneuver or didnt contain it at all.\n",
    "- I named all the videos containing stretching as \"st_'video_number'\" and \"no_st_video_number\" for videos with no stretching in them.\n",
    "- Out of 230 videos, 130 videos belonged to stretching class and 100 belonged to no-stretching class.\n"
   ]
  },
  {
   "cell_type": "markdown",
   "metadata": {},
   "source": [
    "Data Loading and Labeling:\n",
    "---\n",
    "The videos i generated for this project are being saved in a folder on my Desktop called \"Stretch_Videos\". Here i would just read the name of each video file and put it in a dataframe along with its label."
   ]
  },
  {
   "cell_type": "code",
   "execution_count": 30,
   "metadata": {
    "collapsed": false,
    "deletable": true,
    "editable": true
   },
   "outputs": [
    {
     "data": {
      "text/html": [
       "<div>\n",
       "<style scoped>\n",
       "    .dataframe tbody tr th:only-of-type {\n",
       "        vertical-align: middle;\n",
       "    }\n",
       "\n",
       "    .dataframe tbody tr th {\n",
       "        vertical-align: top;\n",
       "    }\n",
       "\n",
       "    .dataframe thead th {\n",
       "        text-align: right;\n",
       "    }\n",
       "</style>\n",
       "<table border=\"1\" class=\"dataframe\">\n",
       "  <thead>\n",
       "    <tr style=\"text-align: right;\">\n",
       "      <th></th>\n",
       "      <th>video_name</th>\n",
       "    </tr>\n",
       "    <tr>\n",
       "      <th>labels</th>\n",
       "      <th></th>\n",
       "    </tr>\n",
       "  </thead>\n",
       "  <tbody>\n",
       "    <tr>\n",
       "      <th>0</th>\n",
       "      <td>100</td>\n",
       "    </tr>\n",
       "    <tr>\n",
       "      <th>1</th>\n",
       "      <td>130</td>\n",
       "    </tr>\n",
       "  </tbody>\n",
       "</table>\n",
       "</div>"
      ],
      "text/plain": [
       "        video_name\n",
       "labels            \n",
       "0              100\n",
       "1              130"
      ]
     },
     "execution_count": 30,
     "metadata": {},
     "output_type": "execute_result"
    }
   ],
   "source": [
    "# Loading video names in a column and labels:\n",
    "os.getcwd()\n",
    "path='C:\\\\Users\\\\Muhammad Hussain\\\\Desktop'\n",
    "video_directory=os.path.join(path,\"Stretch_Videos\")\n",
    "videos=os.listdir(video_directory)\n",
    "\n",
    "label=[]\n",
    "for i in videos:\n",
    "    if \"no_st_\" in i:\n",
    "        label.append(0)\n",
    "    elif \"st_\" in i:\n",
    "        label.append(1)\n",
    "    else:\n",
    "        label.append(\"file_name_incorrect\")\n",
    "        \n",
    "videos=pd.DataFrame(videos,label).reset_index()\n",
    "videos.columns=[\"labels\",\"video_name\"]\n",
    "\n",
    "videos.groupby('labels').count()"
   ]
  },
  {
   "cell_type": "markdown",
   "metadata": {},
   "source": [
    "Train Test Split:\n",
    "---\n",
    "I used random shuffling of videos to split them into train and test dataset. So out of total 230 video 170 are reserved as training dataset which would be used to train the model. Whereas there are 60 videos which are reserved as test set and have 30 videos in each class.\n",
    "- Labels:\n",
    "--\n",
    "I have used binary labelling, where stretching in the video is labeled as \"1\" and no stretching as \"0\"."
   ]
  },
  {
   "cell_type": "code",
   "execution_count": 31,
   "metadata": {
    "collapsed": true,
    "deletable": true,
    "editable": true
   },
   "outputs": [],
   "source": [
    "# Splitting the videos into Train and Test Videos:\n",
    "no_st=videos.loc[videos[\"labels\"]==0,]\n",
    "st=videos.loc[videos[\"labels\"]==1,]\n",
    "\n",
    "no_st_range=np.arange(len(no_st))\n",
    "st_range=np.arange(len(st))\n",
    "np.random.seed(14)\n",
    "np.random.shuffle(no_st_range)\n",
    "np.random.shuffle(st_range)\n",
    "\n",
    "st=st.iloc[st_range,]\n",
    "no_st=no_st.iloc[no_st_range,]\n",
    "\n",
    "train_st=st.iloc[:100,]\n",
    "train_no_st=no_st.iloc[:70,]\n",
    "test_st=st.iloc[100:,]\n",
    "test_no_st=no_st.iloc[70:,]\n",
    "\n",
    "train_set=train_st.append(train_no_st)\n",
    "test_set=test_st.append(test_no_st)\n",
    "\n",
    "train_set=train_set.reset_index().drop(\"index\",axis=1)\n",
    "test_set=test_set.reset_index().drop(\"index\",axis=1)"
   ]
  },
  {
   "cell_type": "code",
   "execution_count": 32,
   "metadata": {},
   "outputs": [
    {
     "name": "stdout",
     "output_type": "stream",
     "text": [
      "        video_name\n",
      "labels            \n",
      "0               70\n",
      "1              100\n",
      "        video_name\n",
      "labels            \n",
      "0               30\n",
      "1               30\n"
     ]
    }
   ],
   "source": [
    "print(train_set.groupby('labels').count())\n",
    "print(test_set.groupby('labels').count())"
   ]
  },
  {
   "cell_type": "markdown",
   "metadata": {},
   "source": [
    "Creating Folders for Train and Test Datasets:\n",
    "---\n",
    "Creating a Main Directory Stretches where i would save frames from each video. The reason to create this directory is because  a video is a sequence of frames, and when i would be reading video files in the \"Stretch Videos\" directory defined above, i would need to save frames corresponding to each video in some directory. For the reason i would create a directory \"Stretches\" and in that folder i have created two sub-folders called \"Train_Videos\" and \"Test_Videos\" where i would put the frames corresponding to the videos."
   ]
  },
  {
   "cell_type": "code",
   "execution_count": 90,
   "metadata": {},
   "outputs": [],
   "source": [
    "stretches_dir_path=os.path.join(path,'Stretches')\n",
    "train_videos_dir=os.path.join(stretches_dir_path,\"Train_Videos\")\n",
    "test_videos_dir=os.path.join(stretches_dir_path,\"Test_Videos\")\n",
    "try:\n",
    "    os.mkdir(stretches_dir_path)\n",
    "except FileExistsError as ae:\n",
    "    print(\"Folder Already Created\")\n",
    "\n",
    "try:\n",
    "    os.mkdir(train_videos_dir)\n",
    "except FileExistsError as ae:\n",
    "    print(\"Folder Already Created\")\n",
    "    \n",
    "try:\n",
    "    os.mkdir(test_videos_dir)\n",
    "except FileExistsError as ae:\n",
    "    print(\"Folder Already Created\")\n"
   ]
  },
  {
   "cell_type": "markdown",
   "metadata": {},
   "source": [
    "Reading the video files, extracting frames from each corresponding video and putting them in the respective train/test folder:"
   ]
  },
  {
   "cell_type": "code",
   "execution_count": 92,
   "metadata": {},
   "outputs": [
    {
     "name": "stdout",
     "output_type": "stream",
     "text": [
      "All frames written in the: Train_Videos Folder\n",
      "All frames written in the: Test_Videos Folder\n"
     ]
    }
   ],
   "source": [
    "stretches_path=os.path.join(path,\"Stretches\")\n",
    "def video_capturing_function(dataset,folder_name):\n",
    "    for i in np.arange(len(dataset)):\n",
    "        video_name=dataset.video_name[i]\n",
    "        video_read_path=os.path.join(video_directory,video_name)\n",
    "        cap=cv2.VideoCapture(video_read_path)\n",
    "        try:\n",
    "            os.mkdir(os.path.join(os.path.join(stretches_path,folder_name),\n",
    "                                  video_name.split(\".\")[0]))\n",
    "        except:\n",
    "            print(\"File Already Created\")\n",
    "        \n",
    "        train_write_file=os.path.join(os.path.join(stretches_path,folder_name),\n",
    "                                  video_name.split(\".\")[0])\n",
    "        cap.set(cv2.CAP_PROP_FPS, 20)\n",
    "        frameRate=cap.get(5)\n",
    "        x=1\n",
    "        count=0\n",
    "        while(cap.isOpened()):\n",
    "            frameId = cap.get(1) #current frame number\n",
    "            ret, frame = cap.read()\n",
    "            if (ret != True):\n",
    "                break\n",
    "            if (frameId % math.floor(frameRate) == 0):\n",
    "                filename =\"frame%d.jpg\" % count;count+=1\n",
    "                frame_grey=cv2.cvtColor(frame, cv2.COLOR_BGR2GRAY)\n",
    "                cv2.imwrite(os.path.join(train_write_file,filename), frame_grey)\n",
    "        cap.release()\n",
    "    return print(\"All frames written in the: \"+folder_name+\" Folder\")\n",
    "    \n",
    "video_capturing_function(train_set,\"Train_Videos\")\n",
    "video_capturing_function(test_set,\"Test_Videos\")"
   ]
  },
  {
   "cell_type": "code",
   "execution_count": 33,
   "metadata": {
    "collapsed": true,
    "deletable": true,
    "editable": true
   },
   "outputs": [],
   "source": [
    "# Code to see how many frames are captured for each video:\n",
    "train_dir_path='C:\\\\Users\\\\Muhammad Hussain\\\\Desktop\\\\Stretches\\\\Train_Videos'\n",
    "test_dir_path='C:\\\\Users\\\\Muhammad Hussain\\\\Desktop\\\\Stretches\\\\Test_Videos'\n",
    "\n",
    "vid_file_name=train_set.video_name[0].split('.')[0]\n",
    "\n",
    "train_frames=[]\n",
    "for i in np.arange(len(train_set.video_name)):\n",
    "    vid_file_name=train_set.video_name[i].split('.')[0]\n",
    "    train_frames.append(len(os.listdir(os.path.join(train_dir_path,vid_file_name))))\n",
    "\n",
    "test_frames=[]\n",
    "for i in np.arange(len(test_set.video_name)):\n",
    "    vid_file_name=test_set.video_name[i].split('.')[0]\n",
    "    test_frames.append(len(os.listdir(os.path.join(test_dir_path,vid_file_name))))\n"
   ]
  },
  {
   "cell_type": "markdown",
   "metadata": {},
   "source": [
    "Making sure that each video has atleast 10 frames:\n",
    "---\n",
    "Some videos were of length <4 secs, so the frames captured from them were less than 10, so i am making sure that each video has atleast 10 frames, and if it has less than 10 then the function below would start generating the extra frames by creating the copies of the frames in the start and put them at the end.\n",
    "This is a way to make sure that i have atleast 10 frames in each video."
   ]
  },
  {
   "cell_type": "code",
   "execution_count": 94,
   "metadata": {},
   "outputs": [
    {
     "name": "stdout",
     "output_type": "stream",
     "text": [
      "Frame Generation Done!\n",
      "Frame Generation Done!\n"
     ]
    }
   ],
   "source": [
    "def frame_generating_function(dataset,dir_path):\n",
    "    for i in np.arange(len(dataset.video_name)):\n",
    "        vid_namu=dataset.video_name[i]\n",
    "        vid_path=os.path.join(dir_path,vid_namu.split(\".\")[0])\n",
    "        len_frame=len(os.listdir(vid_path))\n",
    "        j=10-len(os.listdir(vid_path))\n",
    "        if j>0:\n",
    "            list_frames=os.listdir(vid_path)\n",
    "            c=0\n",
    "            for k in np.arange(j):\n",
    "                list_frames=os.listdir(vid_path)\n",
    "                frame=os.path.join(vid_path,list_frames[c])\n",
    "                countu=k+len_frame\n",
    "                new_frame=\"frame%d.jpg\" % countu\n",
    "                shutil.copy2(frame,os.path.join(vid_path,new_frame))\n",
    "                c+=1\n",
    "        else:\n",
    "            pass\n",
    "    return print(\"Frame Generation Done!\")\n",
    "    \n",
    "frame_generating_function(train_set,train_dir_path)\n",
    "frame_generating_function(test_set,test_dir_path)"
   ]
  },
  {
   "cell_type": "markdown",
   "metadata": {},
   "source": [
    "Data Preparation:\n",
    "---\n",
    "In this modeule i would be generating a validation set against which our model would be validated during the training process.\n",
    "- In the first step i just created a list of videos that would be in training set and the validation set. Remember previously i had created a train and test set. So, now the validation set is generated from train set, test set remains the same.\n",
    "- In the second step i would read the first 10 frames from each video as its representation, and created a tensor of dimension (10, pixel_size, pixel_size, channels) for each video.\n",
    "- The question might be that why first 10 frames, why not the middle 10 frames or why not a running window. So, firstly, the videos i recorded were of short lengths 4-13 sec only, also the library that i used for frames extraction from the video, extracted frames in a way that the most of the videos had 10 to 15 frames in total."
   ]
  },
  {
   "cell_type": "code",
   "execution_count": 34,
   "metadata": {
    "collapsed": true,
    "deletable": true,
    "editable": true
   },
   "outputs": [],
   "source": [
    "# Train and Validation Splitting:\n",
    "label_1_dat=train_set.loc[train_set[\"labels\"]==1,]\n",
    "label_0_dat=train_set.loc[train_set[\"labels\"]==0,]\n",
    "\n",
    "train_len_label1=math.floor(len(label_1_dat)*0.80)\n",
    "train_len_label0=math.floor(len(label_0_dat)*0.80)\n",
    "\n",
    "train_dat_label1=label_1_dat.iloc[:train_len_label1,]\n",
    "train_dat_label0=label_0_dat.iloc[:train_len_label0,]\n",
    "\n",
    "validation_dat_label1=label_1_dat.iloc[train_len_label1:,]\n",
    "validation_dat_label0=label_0_dat.iloc[train_len_label0:,]\n",
    "\n",
    "train_vid_dat=train_dat_label1.append(train_dat_label0,ignore_index=True)\n",
    "validation_vid_dat=validation_dat_label1.append(validation_dat_label0,ignore_index=True)\n"
   ]
  },
  {
   "cell_type": "markdown",
   "metadata": {},
   "source": [
    "- Function below takes dataset (Contains video name and corrsponding label) and the directory where extracted frames were saved, and extract the first 10 frames for each video, resize each frame into (250,250) image and convert it into greyscale image, because in the activity recognition, i dont think color picture is of that importance. Plus by removing 2 extra channels we can reduce the computation size."
   ]
  },
  {
   "cell_type": "code",
   "execution_count": 36,
   "metadata": {},
   "outputs": [],
   "source": [
    "# Data load function for 10 frames:\n",
    "\n",
    "def data_load_function_10frames(dataset,directory):\n",
    "    frames=[]\n",
    "    for i in np.arange(len(dataset)):\n",
    "        vid_name=dataset.video_name[i].split(\".\")[0]\n",
    "        vid_dir_path=os.path.join(directory,vid_name)\n",
    "        frames_to_select=[]\n",
    "        for l in np.arange(0,10):\n",
    "            frames_to_select.append('frame%d.jpg' % l)\n",
    "        vid_data=[]\n",
    "        for frame in frames_to_select:\n",
    "            image=Image.open(os.path.join(vid_dir_path,frame))\n",
    "            image=image.resize((250, 250), Image.ANTIALIAS) \n",
    "            datu=np.asarray(image)\n",
    "            normu_dat=datu/255\n",
    "            vid_data.append(normu_dat)\n",
    "        vid_data=np.array(vid_data)\n",
    "        frames.append(vid_data)\n",
    "    return np.array(frames)"
   ]
  },
  {
   "cell_type": "code",
   "execution_count": 37,
   "metadata": {},
   "outputs": [],
   "source": [
    "# 10 frames train,validation and test data:\n",
    "\n",
    "test_dataset_new=data_load_function_10frames(test_set,test_dir_path)\n",
    "train_dataset_new=data_load_function_10frames(train_vid_dat,train_dir_path)\n",
    "validation_dataset_new=data_load_function_10frames(validation_vid_dat,train_dir_path)\n",
    "\n",
    "test_labels=np.array(test_set.labels)\n",
    "train_labels=np.array(train_vid_dat.labels)\n",
    "validation_labels=np.array(validation_vid_dat.labels)"
   ]
  },
  {
   "cell_type": "code",
   "execution_count": 38,
   "metadata": {},
   "outputs": [],
   "source": [
    "# Reshaping tensors to confirm with the model we are going to train:\n",
    "test_dataset_new=test_dataset_new.reshape((60,10,250,250,1))\n",
    "train_dataset_new=train_dataset_new.reshape((136,10,250,250,1))\n",
    "validation_dataset_new=validation_dataset_new.reshape((34,10,250,250,1))\n"
   ]
  },
  {
   "cell_type": "markdown",
   "metadata": {},
   "source": [
    "Model Architectures:\n",
    "---\n",
    "Baseline:\n",
    "---\n",
    "- We have a total of 60 videos in the test set out of which 30 belong to the Class \"Stretching\" and 30 belong to the class \"No Stretching\". If we have a naive classifier that would arbitararily assign the same class to all the samples, it would be able to achieve 50 percent accuracy.\n",
    "- Thus, our goal here is to beat this baseline accuracy with any model architecture we design."
   ]
  },
  {
   "cell_type": "code",
   "execution_count": 30,
   "metadata": {},
   "outputs": [
    {
     "data": {
      "text/plain": [
       "0.5"
      ]
     },
     "execution_count": 30,
     "metadata": {},
     "output_type": "execute_result"
    }
   ],
   "source": [
    "baseline_predictions=np.ones(len(test_labels))\n",
    "test_accuracy_naive=np.where(baseline_predictions==test_labels)[0].shape[0]/len(test_labels)\n",
    "test_accuracy_naive"
   ]
  },
  {
   "cell_type": "markdown",
   "metadata": {},
   "source": [
    "CNN and LSTM Architecture:\n",
    "---\n",
    "- Convolutional Neural Networks are a powerful tool for extracting features from images and are widely used in image processing. If we look at the videos, they are just a set of multiple images recording at different time steps. Thus, a video has both spatial and temporal dimensions. Thus, use of convolutional layers only might not be suffice in dealing with video processing, especially when the task is to recognise the activity in video, i.e \"Stretching Body\" in our case.\n",
    "- Thus, i researched about some of the layers architectures available in Keras, and i came accross the \"Time Distributed Layer\" module in Keras. So, what it does is that it applies a layer into \"N\" time dimensions given. For example if we have 10 frames in a video. And we use a Convolution Layer to extract features from images, \"Time Distributed Layer\" would consider 10 frames as 10 timesteps and apply the convolutional layer onto those 10 frames keeping the temporal aspect attached.\n",
    "- Bottom line is that Time Distributed Layer applied with Convolutional layer would learn different aspects temporally, e.g it would detect a person/body in the first frame and then would try to learn how the orientation of the bosy changes in the succeeding frames."
   ]
  },
  {
   "cell_type": "markdown",
   "metadata": {},
   "source": [
    "Model 1: CNN and LSTM (A very basic Architecture)\n",
    "---\n",
    "I would start with a very basic CNN+LSTM Architecture just so that i can beat the baseline accuracy of 50%.\n",
    "So, here is the architecture defined."
   ]
  },
  {
   "cell_type": "code",
   "execution_count": 26,
   "metadata": {},
   "outputs": [
    {
     "name": "stdout",
     "output_type": "stream",
     "text": [
      "_________________________________________________________________\n",
      "Layer (type)                 Output Shape              Param #   \n",
      "=================================================================\n",
      "time_distributed_41 (TimeDis (None, 10, 248, 248, 128) 1280      \n",
      "_________________________________________________________________\n",
      "time_distributed_42 (TimeDis (None, 10, 246, 246, 64)  73792     \n",
      "_________________________________________________________________\n",
      "time_distributed_43 (TimeDis (None, 10, 123, 123, 64)  0         \n",
      "_________________________________________________________________\n",
      "time_distributed_44 (TimeDis (None, 10, 121, 121, 64)  36928     \n",
      "_________________________________________________________________\n",
      "time_distributed_45 (TimeDis (None, 10, 119, 119, 32)  18464     \n",
      "_________________________________________________________________\n",
      "time_distributed_46 (TimeDis (None, 10, 59, 59, 32)    0         \n",
      "_________________________________________________________________\n",
      "time_distributed_47 (TimeDis (None, 10, 59, 59, 32)    128       \n",
      "_________________________________________________________________\n",
      "time_distributed_48 (TimeDis (None, 10, 111392)        0         \n",
      "_________________________________________________________________\n",
      "dropout_8 (Dropout)          (None, 10, 111392)        0         \n",
      "_________________________________________________________________\n",
      "lstm_4 (LSTM)                (None, 32)                14262400  \n",
      "_________________________________________________________________\n",
      "dense_16 (Dense)             (None, 64)                2112      \n",
      "_________________________________________________________________\n",
      "dense_17 (Dense)             (None, 32)                2080      \n",
      "_________________________________________________________________\n",
      "dropout_9 (Dropout)          (None, 32)                0         \n",
      "_________________________________________________________________\n",
      "dense_18 (Dense)             (None, 1)                 33        \n",
      "=================================================================\n",
      "Total params: 14,397,217\n",
      "Trainable params: 14,397,153\n",
      "Non-trainable params: 64\n",
      "_________________________________________________________________\n"
     ]
    }
   ],
   "source": [
    "from keras.layers import TimeDistributed, Conv2D, Dense, MaxPooling2D, Flatten, LSTM, Dropout, BatchNormalization\n",
    "from keras import models\n",
    "model_cnlst = models.Sequential()\n",
    "model_cnlst.add(TimeDistributed(Conv2D(128, (3, 3), strides=(1,1),activation='relu'),input_shape=(10, 250, 250, 1)))\n",
    "model_cnlst.add(TimeDistributed(Conv2D(64, (3, 3), strides=(1,1),activation='relu')))\n",
    "model_cnlst.add(TimeDistributed(MaxPooling2D(2,2)))\n",
    "model_cnlst.add(TimeDistributed(Conv2D(64, (3, 3), strides=(1,1),activation='relu')))\n",
    "model_cnlst.add(TimeDistributed(Conv2D(32, (3, 3), strides=(1,1),activation='relu')))\n",
    "model_cnlst.add(TimeDistributed(MaxPooling2D(2,2)))\n",
    "model_cnlst.add(TimeDistributed(BatchNormalization()))\n",
    "\n",
    "\n",
    "model_cnlst.add(TimeDistributed(Flatten()))\n",
    "model_cnlst.add(Dropout(0.2))\n",
    "\n",
    "model_cnlst.add(LSTM(32,return_sequences=False,dropout=0.2)) # used 32 units\n",
    "\n",
    "model_cnlst.add(Dense(64,activation='relu'))\n",
    "model_cnlst.add(Dense(32,activation='relu'))\n",
    "model_cnlst.add(Dropout(0.2))\n",
    "model_cnlst.add(Dense(1, activation='sigmoid'))\n",
    "model_cnlst.summary()"
   ]
  },
  {
   "cell_type": "markdown",
   "metadata": {},
   "source": [
    "Model Compilation and Defining Keras Callbacks:\n",
    "---\n",
    "- Keras Callbacks is a way in keras where you can create logs of different parameters and manipulate the model on run time. E.g if you want to run your model for 20 epochs and after 4th epoch the modle performacne does not improve, you would want to stop the model there to avoid any overfitting, you can do that using Keras Callback call defined as \"Early Stopping\".\n",
    "- I have used 3 types of Callbacks commands, one is Early Stopping as defined above which has the patience parameter that defines after how many epochs of no improvement in Accuracy the model should stop, \"Model Checkpoint\" that would keep the log of model weights and save the best model and Finally \"Learning Rate on Plateau\" which can reduce or increase the learning rate after some epochs of no improvements, changing the learning rate can save our model for getting stuck into local minima."
   ]
  },
  {
   "cell_type": "code",
   "execution_count": null,
   "metadata": {},
   "outputs": [],
   "source": [
    "# 'cnn_lstm_model_new5.h5'\n",
    "from keras import optimizers\n",
    "callbacks_list_cnlst=[keras.callbacks.EarlyStopping(\n",
    "monitor='acc',patience=3),\n",
    "               keras.callbacks.ModelCheckpoint(\n",
    "               filepath='cnn_lstm_model_new3.h5',\n",
    "               monitor='val_loss',\n",
    "               save_best_only=True),\n",
    "                keras.callbacks.ReduceLROnPlateau(monitor = \"val_loss\", factor = 0.1, patience = 3)\n",
    "               ]\n",
    "\n",
    "from keras import optimizers\n",
    "optimizer_new=optimizers.RMSprop(lr=0.01)\n",
    "model_cnlst.compile(optimizer=optimizer_new,loss='binary_crossentropy',metrics=['acc'])"
   ]
  },
  {
   "cell_type": "code",
   "execution_count": null,
   "metadata": {},
   "outputs": [],
   "source": [
    "history_new_cnlst=model_cnlst.fit(train_dataset_new,train_labels,epochs=20,batch_size=10,\n",
    "               validation_data=(validation_dataset_new,validation_labels),\n",
    "               callbacks=callbacks_list_cnlst)"
   ]
  },
  {
   "cell_type": "code",
   "execution_count": 30,
   "metadata": {},
   "outputs": [
    {
     "name": "stdout",
     "output_type": "stream",
     "text": [
      "Train on 136 samples, validate on 34 samples\n",
      "Epoch 1/20\n",
      "136/136 [==============================] - 566s 4s/step - loss: 0.7140 - acc: 0.5882 - val_loss: 0.7231 - val_acc: 0.6176\n",
      "Epoch 2/20\n",
      "136/136 [==============================] - 516s 4s/step - loss: 0.6495 - acc: 0.6544 - val_loss: 0.7105 - val_acc: 0.5294\n",
      "Epoch 3/20\n",
      "136/136 [==============================] - 521s 4s/step - loss: 0.6549 - acc: 0.6324 - val_loss: 0.6170 - val_acc: 0.6765\n",
      "Epoch 4/20\n",
      "136/136 [==============================] - 516s 4s/step - loss: 0.6717 - acc: 0.6912 - val_loss: 1.0941 - val_acc: 0.5000\n",
      "Epoch 5/20\n",
      "136/136 [==============================] - 523s 4s/step - loss: 0.6714 - acc: 0.6765 - val_loss: 1.0736 - val_acc: 0.4118\n",
      "Epoch 6/20\n",
      "136/136 [==============================] - 519s 4s/step - loss: 0.6292 - acc: 0.7132 - val_loss: 0.6923 - val_acc: 0.5882\n",
      "Epoch 7/20\n",
      "136/136 [==============================] - 510s 4s/step - loss: 0.6213 - acc: 0.6765 - val_loss: 0.6531 - val_acc: 0.5294\n",
      "Epoch 8/20\n",
      "136/136 [==============================] - 524s 4s/step - loss: 0.6303 - acc: 0.6544 - val_loss: 0.7046 - val_acc: 0.5294\n",
      "Epoch 9/20\n",
      "136/136 [==============================] - 519s 4s/step - loss: 0.6482 - acc: 0.6985 - val_loss: 0.8045 - val_acc: 0.5294\n"
     ]
    }
   ],
   "source": [
    "history_new_cnlst=model_cnlst.fit(train_dataset_new,train_labels,batch_size=10,epochs=20,\n",
    "                        validation_data=(validation_dataset_new,validation_labels),\n",
    "                       callbacks=callbacks_list_cnlst)"
   ]
  },
  {
   "cell_type": "markdown",
   "metadata": {},
   "source": [
    "Model stopped training after the 9th epoch, which shows that there was no improvememnt in validation accuracy after the 6th epoch.\n",
    "The train and validation accuracies have a bit of a difference, which might indicate towards a little overfitting after 6th epoch where the validation accuracy remained constant, while the training accuracy kept on increasing.\n",
    "Let's plot the train and validation accuracies. "
   ]
  },
  {
   "cell_type": "code",
   "execution_count": 31,
   "metadata": {},
   "outputs": [
    {
     "data": {
      "image/png": "[encoded data removed]",
      "text/plain": [
       "<Figure size 432x288 with 4 Axes>"
      ]
     },
     "metadata": {
      "needs_background": "light"
     },
     "output_type": "display_data"
    }
   ],
   "source": [
    "acc=history_new_cnlst.history[\"acc\"]\n",
    "val_acc=history_new_cnlst.history[\"val_acc\"]\n",
    "loss=history_new_cnlst.history[\"loss\"]\n",
    "val_loss=history_new_cnlst.history[\"val_loss\"]\n",
    "epochs=np.arange(1,10)\n",
    "\n",
    "plt.figure()\n",
    "plt.subplot(2,2,1)\n",
    "plt.plot(epochs,val_acc,'-o')\n",
    "plt.title('Validation Accuracy')\n",
    "\n",
    "plt.subplot(2,2,2)\n",
    "plt.plot(epochs,acc,'-o')\n",
    "plt.title('Train Accuracy')\n",
    "\n",
    "plt.subplot(2,2,3)\n",
    "plt.plot(epochs,val_loss,'-o')\n",
    "plt.title('Validation Loss')\n",
    "\n",
    "plt.subplot(2,2,4)\n",
    "plt.plot(epochs,loss,'-o')\n",
    "plt.title('Training Loss')\n",
    "\n",
    "\n",
    "plt.tight_layout()"
   ]
  },
  {
   "cell_type": "markdown",
   "metadata": {},
   "source": [
    "Model Testing on Test Dataset:\n",
    "---\n",
    "Now i am going to test my model on test dataset, where i have 60 videos, 30 from each class. So, let's see if our basic model beats the baseline accuracy of 50%."
   ]
  },
  {
   "cell_type": "code",
   "execution_count": 10,
   "metadata": {},
   "outputs": [
    {
     "name": "stdout",
     "output_type": "stream",
     "text": [
      "WARNING:tensorflow:From C:\\Users\\Muhammad Hussain\\Anaconda3\\lib\\site-packages\\tensorflow\\python\\framework\\op_def_library.py:263: colocate_with (from tensorflow.python.framework.ops) is deprecated and will be removed in a future version.\n",
      "Instructions for updating:\n",
      "Colocations handled automatically by placer.\n",
      "WARNING:tensorflow:From C:\\Users\\Muhammad Hussain\\Anaconda3\\lib\\site-packages\\keras\\backend\\tensorflow_backend.py:3445: calling dropout (from tensorflow.python.ops.nn_ops) with keep_prob is deprecated and will be removed in a future version.\n",
      "Instructions for updating:\n",
      "Please use `rate` instead of `keep_prob`. Rate should be set to `rate = 1 - keep_prob`.\n",
      "WARNING:tensorflow:From C:\\Users\\Muhammad Hussain\\Anaconda3\\lib\\site-packages\\tensorflow\\python\\ops\\math_ops.py:3066: to_int32 (from tensorflow.python.ops.math_ops) is deprecated and will be removed in a future version.\n",
      "Instructions for updating:\n",
      "Use tf.cast instead.\n",
      "60/60 [==============================] - 369s 6s/step\n"
     ]
    },
    {
     "data": {
      "text/plain": [
       "[0.5500303943951924, 0.7333333253860473]"
      ]
     },
     "execution_count": 10,
     "metadata": {},
     "output_type": "execute_result"
    }
   ],
   "source": [
    "modelu_5=load_model('cnn_lstm_model_new3.h5')\n",
    "modelu_5.evaluate(test_dataset_new,test_labels)"
   ]
  },
  {
   "cell_type": "markdown",
   "metadata": {},
   "source": [
    "So, it's very surprising that this basic architecture gave us the accuracy of 73% on the test_dataset. Which seems pretty good. Now let's change the above mentioned model a bit, make it more complex by adding layers and see where it leads us."
   ]
  },
  {
   "cell_type": "markdown",
   "metadata": {},
   "source": [
    "Model 2: CNN and LSTM (A more complex Architecture with more layers)\n",
    "---"
   ]
  },
  {
   "cell_type": "code",
   "execution_count": 11,
   "metadata": {},
   "outputs": [
    {
     "name": "stdout",
     "output_type": "stream",
     "text": [
      "_________________________________________________________________\n",
      "Layer (type)                 Output Shape              Param #   \n",
      "=================================================================\n",
      "time_distributed_15 (TimeDis (None, 10, 248, 248, 128) 1280      \n",
      "_________________________________________________________________\n",
      "time_distributed_16 (TimeDis (None, 10, 246, 246, 64)  73792     \n",
      "_________________________________________________________________\n",
      "time_distributed_17 (TimeDis (None, 10, 123, 123, 64)  0         \n",
      "_________________________________________________________________\n",
      "time_distributed_18 (TimeDis (None, 10, 121, 121, 64)  36928     \n",
      "_________________________________________________________________\n",
      "time_distributed_19 (TimeDis (None, 10, 119, 119, 32)  18464     \n",
      "_________________________________________________________________\n",
      "time_distributed_20 (TimeDis (None, 10, 119, 119, 32)  128       \n",
      "_________________________________________________________________\n",
      "time_distributed_21 (TimeDis (None, 10, 59, 59, 32)    0         \n",
      "_________________________________________________________________\n",
      "time_distributed_22 (TimeDis (None, 10, 57, 57, 64)    18496     \n",
      "_________________________________________________________________\n",
      "time_distributed_23 (TimeDis (None, 10, 55, 55, 32)    18464     \n",
      "_________________________________________________________________\n",
      "time_distributed_24 (TimeDis (None, 10, 27, 27, 32)    0         \n",
      "_________________________________________________________________\n",
      "time_distributed_25 (TimeDis (None, 10, 25, 25, 64)    18496     \n",
      "_________________________________________________________________\n",
      "time_distributed_26 (TimeDis (None, 10, 23, 23, 32)    18464     \n",
      "_________________________________________________________________\n",
      "time_distributed_27 (TimeDis (None, 10, 11, 11, 32)    0         \n",
      "_________________________________________________________________\n",
      "batch_normalization_5 (Batch (None, 10, 11, 11, 32)    128       \n",
      "_________________________________________________________________\n",
      "time_distributed_28 (TimeDis (None, 10, 3872)          0         \n",
      "_________________________________________________________________\n",
      "dropout_3 (Dropout)          (None, 10, 3872)          0         \n",
      "_________________________________________________________________\n",
      "lstm_2 (LSTM)                (None, 64)                1007872   \n",
      "_________________________________________________________________\n",
      "dense_5 (Dense)              (None, 128)               8320      \n",
      "_________________________________________________________________\n",
      "batch_normalization_6 (Batch (None, 128)               512       \n",
      "_________________________________________________________________\n",
      "dense_6 (Dense)              (None, 64)                8256      \n",
      "_________________________________________________________________\n",
      "dense_7 (Dense)              (None, 32)                2080      \n",
      "_________________________________________________________________\n",
      "dropout_4 (Dropout)          (None, 32)                0         \n",
      "_________________________________________________________________\n",
      "dense_8 (Dense)              (None, 1)                 33        \n",
      "=================================================================\n",
      "Total params: 1,231,713\n",
      "Trainable params: 1,231,329\n",
      "Non-trainable params: 384\n",
      "_________________________________________________________________\n"
     ]
    }
   ],
   "source": [
    "model_cnlst = models.Sequential()\n",
    "model_cnlst.add(TimeDistributed(Conv2D(128, (3, 3), strides=(1,1),activation='relu'),input_shape=(10, 250, 250, 1)))\n",
    "model_cnlst.add(TimeDistributed(Conv2D(64, (3, 3), strides=(1,1),activation='relu')))\n",
    "model_cnlst.add(TimeDistributed(MaxPooling2D(2,2)))\n",
    "model_cnlst.add(TimeDistributed(Conv2D(64, (3, 3), strides=(1,1),activation='relu')))\n",
    "model_cnlst.add(TimeDistributed(Conv2D(32, (3, 3), strides=(1,1),activation='relu')))\n",
    "model_cnlst.add(TimeDistributed(BatchNormalization()))\n",
    "model_cnlst.add(TimeDistributed(MaxPooling2D(2,2)))\n",
    "\n",
    "model_cnlst.add(TimeDistributed(Conv2D(64, (3, 3), strides=(1,1),activation='relu')))\n",
    "model_cnlst.add(TimeDistributed(Conv2D(32, (3, 3), strides=(1,1),activation='relu')))\n",
    "model_cnlst.add(TimeDistributed(MaxPooling2D(2,2)))\n",
    "model_cnlst.add(TimeDistributed(Conv2D(64, (3, 3), strides=(1,1),activation='relu')))\n",
    "model_cnlst.add(TimeDistributed(Conv2D(32, (3, 3), strides=(1,1),activation='relu')))\n",
    "model_cnlst.add(TimeDistributed(MaxPooling2D(2,2)))\n",
    "model_cnlst.add(TimeDistributed(BatchNormalization()))\n",
    "model_cnlst.add(TimeDistributed(Flatten()))\n",
    "model_cnlst.add(Dropout(0.2))\n",
    "\n",
    "model_cnlst.add(LSTM(64,return_sequences=False,dropout=0.2)) # used 32 units\n",
    "model_cnlst.add(Dense(128,activation='relu'))\n",
    "model_cnlst.add(BatchNormalization())\n",
    "model_cnlst.add(Dense(64,activation='relu'))\n",
    "model_cnlst.add(Dense(32,activation='relu'))\n",
    "model_cnlst.add(Dropout(0.2))\n",
    "model_cnlst.add(Dense(1, activation='sigmoid'))\n",
    "model_cnlst.summary()"
   ]
  },
  {
   "cell_type": "markdown",
   "metadata": {},
   "source": [
    "Model Compilation and Defining Keras Callbacks:"
   ]
  },
  {
   "cell_type": "code",
   "execution_count": 12,
   "metadata": {},
   "outputs": [],
   "source": [
    "callbacks_list_cnlst=[keras.callbacks.EarlyStopping(\n",
    "monitor='acc',patience=3),\n",
    "               keras.callbacks.ModelCheckpoint(\n",
    "               filepath='cnn_lstm_model_new4.h5',\n",
    "               monitor='val_loss',\n",
    "               save_best_only=True),\n",
    "                keras.callbacks.ReduceLROnPlateau(monitor = \"val_loss\", factor = 0.1, patience = 3)\n",
    "               ]\n",
    "\n",
    "from keras import optimizers\n",
    "optimizer_new=optimizers.RMSprop(lr=0.01)\n",
    "model_cnlst.compile(optimizer=optimizer_new,loss='binary_crossentropy',metrics=['acc'])"
   ]
  },
  {
   "cell_type": "code",
   "execution_count": 13,
   "metadata": {},
   "outputs": [
    {
     "name": "stdout",
     "output_type": "stream",
     "text": [
      "WARNING:tensorflow:From C:\\Users\\Muhammad Hussain\\Anaconda3\\lib\\site-packages\\tensorflow\\python\\ops\\math_ops.py:3066: to_int32 (from tensorflow.python.ops.math_ops) is deprecated and will be removed in a future version.\n",
      "Instructions for updating:\n",
      "Use tf.cast instead.\n",
      "Train on 136 samples, validate on 34 samples\n",
      "Epoch 1/20\n",
      "136/136 [==============================] - 650s 5s/step - loss: 0.9695 - acc: 0.5809 - val_loss: 0.7975 - val_acc: 0.6176\n",
      "Epoch 2/20\n",
      "136/136 [==============================] - 546s 4s/step - loss: 0.7925 - acc: 0.5074 - val_loss: 0.6667 - val_acc: 0.6471\n",
      "Epoch 3/20\n",
      "136/136 [==============================] - 546s 4s/step - loss: 0.7700 - acc: 0.6103 - val_loss: 0.6987 - val_acc: 0.5294\n",
      "Epoch 4/20\n",
      "136/136 [==============================] - 521s 4s/step - loss: 0.7031 - acc: 0.6103 - val_loss: 0.8010 - val_acc: 0.5588\n",
      "Epoch 5/20\n",
      "136/136 [==============================] - 527s 4s/step - loss: 0.7204 - acc: 0.6324 - val_loss: 0.7340 - val_acc: 0.4706\n",
      "Epoch 6/20\n",
      "136/136 [==============================] - 545s 4s/step - loss: 0.6508 - acc: 0.6103 - val_loss: 0.7433 - val_acc: 0.5000\n",
      "Epoch 7/20\n",
      "136/136 [==============================] - 551s 4s/step - loss: 0.6338 - acc: 0.6324 - val_loss: 0.7786 - val_acc: 0.5294\n",
      "Epoch 8/20\n",
      "136/136 [==============================] - 545s 4s/step - loss: 0.6414 - acc: 0.6324 - val_loss: 0.7292 - val_acc: 0.5882\n",
      "Epoch 9/20\n",
      "136/136 [==============================] - 536s 4s/step - loss: 0.6096 - acc: 0.6544 - val_loss: 0.7622 - val_acc: 0.4706\n",
      "Epoch 10/20\n",
      "136/136 [==============================] - 552s 4s/step - loss: 0.6141 - acc: 0.6324 - val_loss: 0.6910 - val_acc: 0.5294\n",
      "Epoch 11/20\n",
      "136/136 [==============================] - 548s 4s/step - loss: 0.6304 - acc: 0.6324 - val_loss: 0.6259 - val_acc: 0.5882\n",
      "Epoch 12/20\n",
      "136/136 [==============================] - 535s 4s/step - loss: 0.6016 - acc: 0.6618 - val_loss: 0.6036 - val_acc: 0.6471\n",
      "Epoch 13/20\n",
      "136/136 [==============================] - 536s 4s/step - loss: 0.6346 - acc: 0.6324 - val_loss: 0.6254 - val_acc: 0.7059\n",
      "Epoch 14/20\n",
      "136/136 [==============================] - 544s 4s/step - loss: 0.6028 - acc: 0.6985 - val_loss: 0.6043 - val_acc: 0.6765\n",
      "Epoch 15/20\n",
      "136/136 [==============================] - 534s 4s/step - loss: 0.6030 - acc: 0.6471 - val_loss: 0.6081 - val_acc: 0.6765\n",
      "Epoch 16/20\n",
      "136/136 [==============================] - 524s 4s/step - loss: 0.6279 - acc: 0.6618 - val_loss: 0.6199 - val_acc: 0.6765\n",
      "Epoch 17/20\n",
      "136/136 [==============================] - 519s 4s/step - loss: 0.6293 - acc: 0.6397 - val_loss: 0.6352 - val_acc: 0.6765\n"
     ]
    }
   ],
   "source": [
    "history=model_cnlst.fit(train_dataset_new,train_labels,batch_size=10,epochs=20,\n",
    "                        validation_data=(validation_dataset_new,validation_labels),\n",
    "                       callbacks=callbacks_list_cnlst)"
   ]
  },
  {
   "cell_type": "code",
   "execution_count": 14,
   "metadata": {},
   "outputs": [],
   "source": [
    "acc=history.history[\"acc\"]\n",
    "val_acc=history.history[\"val_acc\"]\n",
    "loss=history.history[\"loss\"]\n",
    "val_loss=history.history[\"val_loss\"]\n",
    "epochs=np.arange(1,18)"
   ]
  },
  {
   "cell_type": "code",
   "execution_count": 16,
   "metadata": {},
   "outputs": [
    {
     "data": {
      "image/png": "[encoded data removed]",
      "text/plain": [
       "<Figure size 432x288 with 4 Axes>"
      ]
     },
     "metadata": {
      "needs_background": "light"
     },
     "output_type": "display_data"
    }
   ],
   "source": [
    "plt.figure()\n",
    "plt.subplot(2,2,1)\n",
    "plt.plot(epochs,val_acc,'-o')\n",
    "plt.title('Validation Accuracy')\n",
    "\n",
    "plt.subplot(2,2,2)\n",
    "plt.plot(epochs,acc,'-o')\n",
    "plt.title('Train Accuracy')\n",
    "\n",
    "plt.subplot(2,2,3)\n",
    "plt.plot(epochs,val_loss,'-o')\n",
    "plt.title('Validation Loss')\n",
    "\n",
    "plt.subplot(2,2,4)\n",
    "plt.plot(epochs,loss,'-o')\n",
    "plt.title('Training Loss')\n",
    "\n",
    "\n",
    "plt.tight_layout()"
   ]
  },
  {
   "cell_type": "markdown",
   "metadata": {},
   "source": [
    "The plot above shows that after the 14th epoch there was not any improvement in the validation accuracy, but the good part is that our model didnt overfit this time. the validation accuracy and train accuracy have been nearly the same, and validation accuracy has been better (Maybe a sign of underfitting).\n",
    "Let's check the test accuracy of the model on our test dataset."
   ]
  },
  {
   "cell_type": "code",
   "execution_count": 17,
   "metadata": {},
   "outputs": [
    {
     "name": "stdout",
     "output_type": "stream",
     "text": [
      "60/60 [==============================] - 307s 5s/step\n"
     ]
    },
    {
     "data": {
      "text/plain": [
       "[0.5996537009874979, 0.6499999980131785]"
      ]
     },
     "execution_count": 17,
     "metadata": {},
     "output_type": "execute_result"
    }
   ],
   "source": [
    "from keras.models import load_model\n",
    "modelu_5=load_model('cnn_lstm_model_new4.h5')\n",
    "modelu_5.evaluate(test_dataset_new,test_labels)"
   ]
  },
  {
   "cell_type": "markdown",
   "metadata": {},
   "source": [
    "This model architecture gives us about 65% accuracy which is still way better than the baseline 50% accuracy but an intriguing factor is that making our model more complex and deep dropped the test accuracy. Or maybe we might still be underfitting this model as explained above. Maybe i can try adding a few more layers and see where it goes."
   ]
  },
  {
   "cell_type": "markdown",
   "metadata": {},
   "source": [
    "3D CNN Architecture:\n",
    "---\n",
    "- 3-Dimensional CNN are a type of convolutional neural network that are extensively used in action detection through a moving array of images or videos. 3-D CNN applies the convolution both spatially and temporally at the same time. The previous architecture of TimeDistributed CNN applies convolution operation separately on different frames of a video, such that the weights are learned separately but in a temporal fashion, while in 3-D CNN, the weights are learned in a combined way as the convolution is applied on all the frames together.\n",
    "- 3-D CNN are computationally very expensive on top of that they are complex aswell, so alot of room to overfit untill we have lots of data. Thus, i would start of with some basic 3-D CNN and see how it works.\n",
    "- As you can see in the model architecture below, i just defined two convolutional layers in the model and it has about 7 million parameters to learn.\n",
    "- The model i am going to define is a sequential model and i can use the Keras's Sequential() to define it as i did previously. But i just wanted to try and show the functional API of Keras and how models are defined through the Functional API."
   ]
  },
  {
   "cell_type": "code",
   "execution_count": 26,
   "metadata": {},
   "outputs": [
    {
     "name": "stdout",
     "output_type": "stream",
     "text": [
      "_________________________________________________________________\n",
      "Layer (type)                 Output Shape              Param #   \n",
      "=================================================================\n",
      "input_1 (InputLayer)         (None, 10, 250, 250, 1)   0         \n",
      "_________________________________________________________________\n",
      "conv3d_1 (Conv3D)            (None, 8, 248, 248, 32)   896       \n",
      "_________________________________________________________________\n",
      "max_pooling3d_1 (MaxPooling3 (None, 4, 124, 124, 32)   0         \n",
      "_________________________________________________________________\n",
      "conv3d_2 (Conv3D)            (None, 2, 122, 122, 64)   55360     \n",
      "_________________________________________________________________\n",
      "max_pooling3d_2 (MaxPooling3 (None, 1, 61, 61, 64)     0         \n",
      "_________________________________________________________________\n",
      "batch_normalization_1 (Batch (None, 1, 61, 61, 64)     256       \n",
      "_________________________________________________________________\n",
      "flatten_1 (Flatten)          (None, 238144)            0         \n",
      "_________________________________________________________________\n",
      "dense_1 (Dense)              (None, 128)               30482560  \n",
      "_________________________________________________________________\n",
      "dropout_1 (Dropout)          (None, 128)               0         \n",
      "_________________________________________________________________\n",
      "dense_2 (Dense)              (None, 64)                8256      \n",
      "_________________________________________________________________\n",
      "dense_3 (Dense)              (None, 32)                2080      \n",
      "_________________________________________________________________\n",
      "dense_4 (Dense)              (None, 1)                 33        \n",
      "=================================================================\n",
      "Total params: 30,549,441\n",
      "Trainable params: 30,549,313\n",
      "Non-trainable params: 128\n",
      "_________________________________________________________________\n"
     ]
    }
   ],
   "source": [
    "from keras.layers import Conv3D, MaxPooling3D, BatchNormalization, Dropout, Dense, Flatten, concatenate\n",
    "from keras.models import Model\n",
    "from keras import Input\n",
    "# 3D Convolutional Model:\n",
    "input_model=Input(shape=(10,250,250,1))\n",
    "layer=Conv3D(32,(3,3,3),strides=(1,1,1),activation='relu')(input_model)\n",
    "layer=MaxPooling3D((2,2,2))(layer)\n",
    "layer=Conv3D(64,(3,3,3),strides=(1,1,1),activation='relu')(layer)\n",
    "layer=MaxPooling3D((2,2,2))(layer)\n",
    "layer=BatchNormalization()(layer)\n",
    "layer=Flatten()(layer)\n",
    "layer=Dense(128,activation='relu')(layer)\n",
    "layer=Dropout(0.1)(layer)\n",
    "layer=Dense(64,activation='relu')(layer)\n",
    "layer=Dense(32,activation='relu')(layer)\n",
    "layer_output=Dense(1,activation='sigmoid')(layer)\n",
    "\n",
    "model_3dConv=Model(input_model,layer_output)\n",
    "\n",
    "model_3dConv.summary()\n",
    "\n"
   ]
  },
  {
   "cell_type": "markdown",
   "metadata": {},
   "source": [
    "Model Compilation and Fitting:\n",
    "---"
   ]
  },
  {
   "cell_type": "code",
   "execution_count": 40,
   "metadata": {},
   "outputs": [
    {
     "name": "stdout",
     "output_type": "stream",
     "text": [
      "Train on 136 samples, validate on 34 samples\n",
      "Epoch 1/15\n",
      "136/136 [==============================] - 132s 967ms/step - loss: 6.9611 - acc: 0.5441 - val_loss: 6.6059 - val_acc: 0.5882\n",
      "Epoch 2/15\n",
      "136/136 [==============================] - 134s 986ms/step - loss: 7.1946 - acc: 0.5515 - val_loss: 6.6110 - val_acc: 0.5882\n",
      "Epoch 3/15\n",
      "136/136 [==============================] - 145s 1s/step - loss: 6.6643 - acc: 0.5809 - val_loss: 7.0696 - val_acc: 0.5588\n",
      "Epoch 4/15\n",
      "136/136 [==============================] - 142s 1s/step - loss: 6.1305 - acc: 0.6176 - val_loss: 6.1318 - val_acc: 0.6176\n",
      "Epoch 5/15\n",
      "136/136 [==============================] - 141s 1s/step - loss: 6.3637 - acc: 0.6029 - val_loss: 6.1318 - val_acc: 0.6176\n",
      "Epoch 6/15\n",
      "136/136 [==============================] - 135s 992ms/step - loss: 5.9090 - acc: 0.6250 - val_loss: 6.1318 - val_acc: 0.6176\n",
      "Epoch 7/15\n",
      "136/136 [==============================] - 136s 1s/step - loss: 6.3649 - acc: 0.6029 - val_loss: 6.1318 - val_acc: 0.6176\n",
      "Epoch 8/15\n",
      "136/136 [==============================] - 136s 996ms/step - loss: 6.4809 - acc: 0.5956 - val_loss: 6.1318 - val_acc: 0.6176\n",
      "Epoch 9/15\n",
      "136/136 [==============================] - 138s 1s/step - loss: 6.1279 - acc: 0.6176 - val_loss: 6.1318 - val_acc: 0.6176\n",
      "Epoch 10/15\n",
      "136/136 [==============================] - 136s 999ms/step - loss: 6.0671 - acc: 0.6176 - val_loss: 6.1318 - val_acc: 0.6176\n",
      "Epoch 11/15\n",
      "136/136 [==============================] - 137s 1s/step - loss: 6.1318 - acc: 0.6176 - val_loss: 6.1318 - val_acc: 0.6176\n",
      "Epoch 12/15\n",
      "136/136 [==============================] - 139s 1s/step - loss: 6.2477 - acc: 0.6103 - val_loss: 6.1318 - val_acc: 0.6176\n"
     ]
    }
   ],
   "source": [
    "# Conv3d model training:\n",
    "from keras import optimizers\n",
    "optimizer_new=optimizers.RMSprop(lr=0.1)\n",
    "optimizer_adagrad=keras.optimizers.Adagrad(lr=0.01)\n",
    "callbacks_list_conv_3d=[keras.callbacks.EarlyStopping(\n",
    "monitor='acc',patience=6),\n",
    "               keras.callbacks.ModelCheckpoint(\n",
    "               filepath='stretch_model_conv_3d_new4.h5',\n",
    "               monitor='val_loss',\n",
    "               save_best_only=True),\n",
    "                        keras.callbacks.ReduceLROnPlateau(monitor = \"val_loss\", factor = 0.1, patience = 2)\n",
    "               ]\n",
    "model_3dConv.compile(optimizer=optimizer_adagrad,loss='binary_crossentropy',metrics=['acc'])\n",
    "conv_3d_model_history=model_3dConv.fit(train_dataset_new,train_labels,batch_size=10,epochs=15,\n",
    "               validation_data=(validation_dataset_new,validation_labels),\n",
    "               callbacks=callbacks_list_conv_3d)"
   ]
  },
  {
   "cell_type": "code",
   "execution_count": 42,
   "metadata": {},
   "outputs": [
    {
     "data": {
      "image/png": "[encoded data removed]",
      "text/plain": [
       "<Figure size 432x288 with 4 Axes>"
      ]
     },
     "metadata": {
      "needs_background": "light"
     },
     "output_type": "display_data"
    }
   ],
   "source": [
    "acc=conv_3d_model_history.history[\"acc\"]\n",
    "val_acc=conv_3d_model_history.history[\"val_acc\"]\n",
    "loss=conv_3d_model_history.history[\"loss\"]\n",
    "val_loss=conv_3d_model_history.history[\"val_loss\"]\n",
    "\n",
    "\n",
    "epochs=np.arange(1,13)\n",
    "\n",
    "plt.figure()\n",
    "plt.subplot(2,2,1)\n",
    "plt.plot(epochs,val_acc,'-o')\n",
    "plt.title('Validation Accuracy')\n",
    "\n",
    "plt.subplot(2,2,2)\n",
    "plt.plot(epochs,acc,'-o')\n",
    "plt.title('Train Accuracy')\n",
    "\n",
    "plt.subplot(2,2,3)\n",
    "plt.plot(epochs,val_loss,'-o')\n",
    "plt.title('Validation Loss')\n",
    "\n",
    "plt.subplot(2,2,4)\n",
    "plt.plot(epochs,loss,'-o')\n",
    "plt.title('Training Loss')\n",
    "\n",
    "\n",
    "plt.tight_layout()"
   ]
  },
  {
   "cell_type": "markdown",
   "metadata": {},
   "source": [
    "Plot shows no signs of overfitting, but it seems like model has hit a bottleneck at around 61% validation accuracy.\n",
    "Maybe we can try changing the layer configurations and see if it works better or worse. Let's see how it performs on the test_set."
   ]
  },
  {
   "cell_type": "code",
   "execution_count": 43,
   "metadata": {},
   "outputs": [
    {
     "name": "stdout",
     "output_type": "stream",
     "text": []
    },
    {
     "name": "stdout",
     "output_type": "stream",
     "text": [
      "60/60 [==============================] - 38s 626ms/step\n"
     ]
    },
    {
     "data": {
      "text/plain": [
       "[5.597405687967936, 0.65]"
      ]
     },
     "execution_count": 43,
     "metadata": {},
     "output_type": "execute_result"
    }
   ],
   "source": [
    "# modelu_6=load_model('stretch_model_conv_3d_new3.h5')\n",
    "modelu_6=load_model('stretch_model_conv_3d_new4.h5')\n",
    "\n",
    "modelu_6.evaluate(test_dataset_new,test_labels)"
   ]
  },
  {
   "cell_type": "markdown",
   "metadata": {},
   "source": [
    "Model gave about 65% of test accuracy, which is way less than what we got from the CNN+LSTM Architecture. So, maybe for our task of Recognition of Stretching body, maybe CNN+LSTM architecture is better at identifying and classifying the stretching body."
   ]
  },
  {
   "cell_type": "code",
   "execution_count": 44,
   "metadata": {},
   "outputs": [],
   "source": [
    "test_preds=modelu_6.predict(test_dataset_new)"
   ]
  },
  {
   "cell_type": "markdown",
   "metadata": {},
   "source": [
    "Model Ensembling:\n",
    "---\n",
    "- Model Ensembling is a powerful technique where we try to merge the prediction of two or more models that are different in their working and would be as diverse as possible.\n",
    "- There are many ways through which we can do the ensemble, one of the easiest and most commonly used way is averaging the predictions of all the models. This technique helps reduce the variance but it gives equal weight to all the models. Which means in a classification problem, a weak classifier would have the same weight as the strong classifier. This can undermine the performance sometimes when we have models of diverse nature.\n",
    "- Thus, i am going to implement a weighed average ensemble (which would give higher weight to the classifier which is strong (Precisely more accurate)) and see which of them performs better in this case."
   ]
  },
  {
   "cell_type": "markdown",
   "metadata": {},
   "source": [
    "Weighed Average Ensemble:\n",
    "---"
   ]
  },
  {
   "cell_type": "code",
   "execution_count": 39,
   "metadata": {},
   "outputs": [],
   "source": [
    "modelu_cnlst_1=load_model('cnn_lstm_model_new3.h5')\n",
    "modelu_cnlst_2=load_model('cnn_lstm_model_new4.h5')\n",
    "\n",
    "model_1_in=modelu_cnlst_1.predict(train_dataset_new)\n",
    "model_2_in=modelu_cnlst_2.predict(train_dataset_new)\n",
    "model_3_in=modelu_6.predict(train_dataset_new)"
   ]
  },
  {
   "cell_type": "code",
   "execution_count": 40,
   "metadata": {},
   "outputs": [],
   "source": [
    "input_dat_in=np.hstack([model_1_in,model_2_in,model_3_in])"
   ]
  },
  {
   "cell_type": "code",
   "execution_count": 59,
   "metadata": {},
   "outputs": [
    {
     "name": "stdout",
     "output_type": "stream",
     "text": [
      "_________________________________________________________________\n",
      "Layer (type)                 Output Shape              Param #   \n",
      "=================================================================\n",
      "dense_25 (Dense)             (None, 1)                 4         \n",
      "=================================================================\n",
      "Total params: 4\n",
      "Trainable params: 4\n",
      "Non-trainable params: 0\n",
      "_________________________________________________________________\n"
     ]
    }
   ],
   "source": [
    "from keras import layers\n",
    "model_ens=models.Sequential()\n",
    "model_ens.add(layers.Dense(1,activation='linear',input_shape=(3,)))\n",
    "model_ens.summary()"
   ]
  },
  {
   "cell_type": "code",
   "execution_count": 60,
   "metadata": {},
   "outputs": [],
   "source": [
    "model_ens.compile(loss='mse',metrics=['acc'],optimizer='rmsprop')"
   ]
  },
  {
   "cell_type": "code",
   "execution_count": 61,
   "metadata": {},
   "outputs": [
    {
     "name": "stdout",
     "output_type": "stream",
     "text": [
      "Train on 108 samples, validate on 28 samples\n",
      "Epoch 1/15\n",
      "108/108 [==============================] - 3s 24ms/step - loss: 0.2489 - acc: 0.7870 - val_loss: 0.7253 - val_acc: 0.2143\n",
      "Epoch 2/15\n",
      "108/108 [==============================] - 0s 330us/step - loss: 0.2180 - acc: 0.7685 - val_loss: 0.6558 - val_acc: 0.2143\n",
      "Epoch 3/15\n",
      "108/108 [==============================] - 0s 370us/step - loss: 0.1979 - acc: 0.7778 - val_loss: 0.6024 - val_acc: 0.3214\n",
      "Epoch 4/15\n",
      "108/108 [==============================] - 0s 296us/step - loss: 0.1850 - acc: 0.7870 - val_loss: 0.5583 - val_acc: 0.3929\n",
      "Epoch 5/15\n",
      "108/108 [==============================] - 0s 297us/step - loss: 0.1762 - acc: 0.7870 - val_loss: 0.5195 - val_acc: 0.3929\n",
      "Epoch 6/15\n",
      "108/108 [==============================] - 0s 381us/step - loss: 0.1707 - acc: 0.7778 - val_loss: 0.4896 - val_acc: 0.3929\n",
      "Epoch 7/15\n",
      "108/108 [==============================] - 0s 296us/step - loss: 0.1674 - acc: 0.7778 - val_loss: 0.4676 - val_acc: 0.4286\n",
      "Epoch 8/15\n",
      "108/108 [==============================] - 0s 296us/step - loss: 0.1660 - acc: 0.7778 - val_loss: 0.4568 - val_acc: 0.4286\n",
      "Epoch 9/15\n",
      "108/108 [==============================] - 0s 370us/step - loss: 0.1651 - acc: 0.7778 - val_loss: 0.4434 - val_acc: 0.4286\n",
      "Epoch 10/15\n",
      "108/108 [==============================] - 0s 288us/step - loss: 0.1643 - acc: 0.7778 - val_loss: 0.4375 - val_acc: 0.4286\n",
      "Epoch 11/15\n",
      "108/108 [==============================] - 0s 370us/step - loss: 0.1644 - acc: 0.7870 - val_loss: 0.4362 - val_acc: 0.4286\n",
      "Epoch 12/15\n",
      "108/108 [==============================] - 0s 271us/step - loss: 0.1641 - acc: 0.7778 - val_loss: 0.4308 - val_acc: 0.4286\n",
      "Epoch 13/15\n",
      "108/108 [==============================] - 0s 370us/step - loss: 0.1639 - acc: 0.7778 - val_loss: 0.4290 - val_acc: 0.4286\n",
      "Epoch 14/15\n",
      "108/108 [==============================] - 0s 296us/step - loss: 0.1637 - acc: 0.7870 - val_loss: 0.4283 - val_acc: 0.4286\n",
      "Epoch 15/15\n",
      "108/108 [==============================] - 0s 305us/step - loss: 0.1640 - acc: 0.7870 - val_loss: 0.4242 - val_acc: 0.4286\n"
     ]
    },
    {
     "data": {
      "text/plain": [
       "<keras.callbacks.History at 0x237e6b1d710>"
      ]
     },
     "execution_count": 61,
     "metadata": {},
     "output_type": "execute_result"
    }
   ],
   "source": [
    "model_ens.fit(input_dat_in,train_labels,batch_size=5,epochs=15,validation_split=0.2)"
   ]
  },
  {
   "cell_type": "code",
   "execution_count": 46,
   "metadata": {},
   "outputs": [],
   "source": [
    "model_1_out=modelu_cnlst_1.predict(test_dataset_new)\n",
    "model_2_out=modelu_cnlst_2.predict(test_dataset_new)\n",
    "model_3_out=modelu_6.predict(test_dataset_new)"
   ]
  },
  {
   "cell_type": "code",
   "execution_count": 47,
   "metadata": {},
   "outputs": [],
   "source": [
    "model_out_final=np.hstack([model_1_out,model_2_out,model_3_out])"
   ]
  },
  {
   "cell_type": "code",
   "execution_count": 62,
   "metadata": {},
   "outputs": [
    {
     "name": "stdout",
     "output_type": "stream",
     "text": [
      "60/60 [==============================] - 0s 120us/step\n"
     ]
    },
    {
     "data": {
      "text/plain": [
       "0.7333333273728688"
      ]
     },
     "execution_count": 62,
     "metadata": {},
     "output_type": "execute_result"
    }
   ],
   "source": [
    "ensemble_loss,ensemble_accuracy=model_ens.evaluate(model_out_final,test_labels)\n",
    "ensemble_accuracy"
   ]
  },
  {
   "cell_type": "markdown",
   "metadata": {},
   "source": [
    "Real Time Prediction on a Video:\n",
    "---"
   ]
  },
  {
   "cell_type": "markdown",
   "metadata": {},
   "source": [
    "To see how the model performs on one video where there is stretching in some part of it and then there is no stretching in the other parts, i have created some functions that would help us do the real time predictions on those long videos.\n",
    "\n",
    "Functions:\n",
    "---\n",
    "- Below i created a function named a s \"video_folder_create\", it requires three arguments:\n",
    "\"path\" = Your current working directory, in my case its desktop.\n",
    "\"video_folder_name\" = Name of the folder in which we would put the short 5 seconds clips from each video to be tested.\n",
    "\"video_name\" = Name of the video file, and i have assumed that video file is in the working directory in which you are working, as in my case the video file is on my desktop.\n",
    "- I have 5 videos each of the duration 50 seconds, and i would be performing real time predictions on all these videos using the best 2 models i have trained previously.\n",
    "- Then i have defined a \"real_time_prediction\" function that takes \"path\" and \"video_folder_name\" as two arguments. This function then reads the frames from each of the subclip of the complete video, do the prediction using the two best trained models i defined earlier, and generate one prediction by averaging the predictions from both of them.\n",
    "- After this i have a plotting mechanism for each video where x-axis is the time axis where prediction is made for 5s intervals of a complete video and y-axis is the prediction axis."
   ]
  },
  {
   "cell_type": "markdown",
   "metadata": {},
   "source": [
    "Loading the two best models:\n",
    "---"
   ]
  },
  {
   "cell_type": "code",
   "execution_count": 6,
   "metadata": {},
   "outputs": [
    {
     "name": "stdout",
     "output_type": "stream",
     "text": [
      "WARNING:tensorflow:From C:\\Users\\Muhammad Hussain\\Anaconda3\\lib\\site-packages\\tensorflow\\python\\framework\\op_def_library.py:263: colocate_with (from tensorflow.python.framework.ops) is deprecated and will be removed in a future version.\n",
      "Instructions for updating:\n",
      "Colocations handled automatically by placer.\n",
      "WARNING:tensorflow:From C:\\Users\\Muhammad Hussain\\Anaconda3\\lib\\site-packages\\keras\\backend\\tensorflow_backend.py:3445: calling dropout (from tensorflow.python.ops.nn_ops) with keep_prob is deprecated and will be removed in a future version.\n",
      "Instructions for updating:\n",
      "Please use `rate` instead of `keep_prob`. Rate should be set to `rate = 1 - keep_prob`.\n",
      "WARNING:tensorflow:From C:\\Users\\Muhammad Hussain\\Anaconda3\\lib\\site-packages\\tensorflow\\python\\ops\\math_ops.py:3066: to_int32 (from tensorflow.python.ops.math_ops) is deprecated and will be removed in a future version.\n",
      "Instructions for updating:\n",
      "Use tf.cast instead.\n"
     ]
    }
   ],
   "source": [
    "modelu_cnlst_1=load_model('cnn_lstm_model_new3.h5')\n",
    "modelu_cnlst_2=load_model('cnn_lstm_model_new4.h5')"
   ]
  },
  {
   "cell_type": "code",
   "execution_count": 16,
   "metadata": {},
   "outputs": [],
   "source": [
    "path='C:\\\\Users\\\\Muhammad Hussain\\\\Desktop'"
   ]
  },
  {
   "cell_type": "markdown",
   "metadata": {},
   "source": [
    "Video Folder Create Function:\n",
    "---"
   ]
  },
  {
   "cell_type": "code",
   "execution_count": 20,
   "metadata": {},
   "outputs": [
    {
     "name": "stdout",
     "output_type": "stream",
     "text": [
      "Folder already created\n",
      "Moviepy - Building video C:\\Users\\Muhammad Hussain\\Desktop\\test_rl_1\\vid_0.mp4.\n",
      "MoviePy - Writing audio in vid_0TEMP_MPY_wvf_snd.mp4\n"
     ]
    },
    {
     "name": "stderr",
     "output_type": "stream",
     "text": []
    },
    {
     "name": "stdout",
     "output_type": "stream",
     "text": [
      "MoviePy - Done.\n",
      "Moviepy - Writing video C:\\Users\\Muhammad Hussain\\Desktop\\test_rl_1\\vid_0.mp4\n",
      "\n"
     ]
    },
    {
     "name": "stderr",
     "output_type": "stream",
     "text": []
    },
    {
     "name": "stdout",
     "output_type": "stream",
     "text": [
      "Moviepy - Done !\n",
      "Moviepy - video ready C:\\Users\\Muhammad Hussain\\Desktop\\test_rl_1\\vid_0.mp4\n",
      "Moviepy - Building video C:\\Users\\Muhammad Hussain\\Desktop\\test_rl_1\\vid_1.mp4.\n",
      "MoviePy - Writing audio in vid_1TEMP_MPY_wvf_snd.mp4\n"
     ]
    },
    {
     "name": "stderr",
     "output_type": "stream",
     "text": []
    },
    {
     "name": "stdout",
     "output_type": "stream",
     "text": [
      "MoviePy - Done.\n",
      "Moviepy - Writing video C:\\Users\\Muhammad Hussain\\Desktop\\test_rl_1\\vid_1.mp4\n",
      "\n"
     ]
    },
    {
     "name": "stderr",
     "output_type": "stream",
     "text": []
    },
    {
     "name": "stdout",
     "output_type": "stream",
     "text": [
      "Moviepy - Done !\n",
      "Moviepy - video ready C:\\Users\\Muhammad Hussain\\Desktop\\test_rl_1\\vid_1.mp4\n",
      "Moviepy - Building video C:\\Users\\Muhammad Hussain\\Desktop\\test_rl_1\\vid_2.mp4.\n",
      "MoviePy - Writing audio in vid_2TEMP_MPY_wvf_snd.mp4\n"
     ]
    },
    {
     "name": "stderr",
     "output_type": "stream",
     "text": []
    },
    {
     "name": "stdout",
     "output_type": "stream",
     "text": [
      "MoviePy - Done.\n",
      "Moviepy - Writing video C:\\Users\\Muhammad Hussain\\Desktop\\test_rl_1\\vid_2.mp4\n",
      "\n"
     ]
    },
    {
     "name": "stderr",
     "output_type": "stream",
     "text": []
    },
    {
     "name": "stdout",
     "output_type": "stream",
     "text": [
      "Moviepy - Done !\n",
      "Moviepy - video ready C:\\Users\\Muhammad Hussain\\Desktop\\test_rl_1\\vid_2.mp4\n",
      "Moviepy - Building video C:\\Users\\Muhammad Hussain\\Desktop\\test_rl_1\\vid_3.mp4.\n",
      "MoviePy - Writing audio in vid_3TEMP_MPY_wvf_snd.mp4\n"
     ]
    },
    {
     "name": "stderr",
     "output_type": "stream",
     "text": []
    },
    {
     "name": "stdout",
     "output_type": "stream",
     "text": [
      "MoviePy - Done.\n",
      "Moviepy - Writing video C:\\Users\\Muhammad Hussain\\Desktop\\test_rl_1\\vid_3.mp4\n",
      "\n"
     ]
    },
    {
     "name": "stderr",
     "output_type": "stream",
     "text": []
    },
    {
     "name": "stdout",
     "output_type": "stream",
     "text": [
      "Moviepy - Done !\n",
      "Moviepy - video ready C:\\Users\\Muhammad Hussain\\Desktop\\test_rl_1\\vid_3.mp4\n",
      "Moviepy - Building video C:\\Users\\Muhammad Hussain\\Desktop\\test_rl_1\\vid_4.mp4.\n",
      "MoviePy - Writing audio in vid_4TEMP_MPY_wvf_snd.mp4\n"
     ]
    },
    {
     "name": "stderr",
     "output_type": "stream",
     "text": []
    },
    {
     "name": "stdout",
     "output_type": "stream",
     "text": [
      "MoviePy - Done.\n",
      "Moviepy - Writing video C:\\Users\\Muhammad Hussain\\Desktop\\test_rl_1\\vid_4.mp4\n",
      "\n"
     ]
    },
    {
     "name": "stderr",
     "output_type": "stream",
     "text": []
    },
    {
     "name": "stdout",
     "output_type": "stream",
     "text": [
      "Moviepy - Done !\n",
      "Moviepy - video ready C:\\Users\\Muhammad Hussain\\Desktop\\test_rl_1\\vid_4.mp4\n",
      "Moviepy - Building video C:\\Users\\Muhammad Hussain\\Desktop\\test_rl_1\\vid_5.mp4.\n",
      "MoviePy - Writing audio in vid_5TEMP_MPY_wvf_snd.mp4\n"
     ]
    },
    {
     "name": "stderr",
     "output_type": "stream",
     "text": []
    },
    {
     "name": "stdout",
     "output_type": "stream",
     "text": [
      "MoviePy - Done.\n",
      "Moviepy - Writing video C:\\Users\\Muhammad Hussain\\Desktop\\test_rl_1\\vid_5.mp4\n",
      "\n"
     ]
    },
    {
     "name": "stderr",
     "output_type": "stream",
     "text": []
    },
    {
     "name": "stdout",
     "output_type": "stream",
     "text": [
      "Moviepy - Done !\n",
      "Moviepy - video ready C:\\Users\\Muhammad Hussain\\Desktop\\test_rl_1\\vid_5.mp4\n",
      "Moviepy - Building video C:\\Users\\Muhammad Hussain\\Desktop\\test_rl_1\\vid_6.mp4.\n",
      "MoviePy - Writing audio in vid_6TEMP_MPY_wvf_snd.mp4\n"
     ]
    },
    {
     "name": "stderr",
     "output_type": "stream",
     "text": []
    },
    {
     "name": "stdout",
     "output_type": "stream",
     "text": [
      "MoviePy - Done.\n",
      "Moviepy - Writing video C:\\Users\\Muhammad Hussain\\Desktop\\test_rl_1\\vid_6.mp4\n",
      "\n"
     ]
    },
    {
     "name": "stderr",
     "output_type": "stream",
     "text": []
    },
    {
     "name": "stdout",
     "output_type": "stream",
     "text": [
      "Moviepy - Done !\n",
      "Moviepy - video ready C:\\Users\\Muhammad Hussain\\Desktop\\test_rl_1\\vid_6.mp4\n",
      "Moviepy - Building video C:\\Users\\Muhammad Hussain\\Desktop\\test_rl_1\\vid_7.mp4.\n",
      "MoviePy - Writing audio in vid_7TEMP_MPY_wvf_snd.mp4\n"
     ]
    },
    {
     "name": "stderr",
     "output_type": "stream",
     "text": []
    },
    {
     "name": "stdout",
     "output_type": "stream",
     "text": [
      "MoviePy - Done.\n",
      "Moviepy - Writing video C:\\Users\\Muhammad Hussain\\Desktop\\test_rl_1\\vid_7.mp4\n",
      "\n"
     ]
    },
    {
     "name": "stderr",
     "output_type": "stream",
     "text": []
    },
    {
     "name": "stdout",
     "output_type": "stream",
     "text": [
      "Moviepy - Done !\n",
      "Moviepy - video ready C:\\Users\\Muhammad Hussain\\Desktop\\test_rl_1\\vid_7.mp4\n",
      "Moviepy - Building video C:\\Users\\Muhammad Hussain\\Desktop\\test_rl_1\\vid_8.mp4.\n",
      "MoviePy - Writing audio in vid_8TEMP_MPY_wvf_snd.mp4\n"
     ]
    },
    {
     "name": "stderr",
     "output_type": "stream",
     "text": []
    },
    {
     "name": "stdout",
     "output_type": "stream",
     "text": [
      "MoviePy - Done.\n",
      "Moviepy - Writing video C:\\Users\\Muhammad Hussain\\Desktop\\test_rl_1\\vid_8.mp4\n",
      "\n"
     ]
    },
    {
     "name": "stderr",
     "output_type": "stream",
     "text": []
    },
    {
     "name": "stdout",
     "output_type": "stream",
     "text": [
      "Moviepy - Done !\n",
      "Moviepy - video ready C:\\Users\\Muhammad Hussain\\Desktop\\test_rl_1\\vid_8.mp4\n",
      "Moviepy - Building video C:\\Users\\Muhammad Hussain\\Desktop\\test_rl_1\\vid_9.mp4.\n",
      "MoviePy - Writing audio in vid_9TEMP_MPY_wvf_snd.mp4\n"
     ]
    },
    {
     "name": "stderr",
     "output_type": "stream",
     "text": []
    },
    {
     "name": "stdout",
     "output_type": "stream",
     "text": [
      "MoviePy - Done.\n",
      "Moviepy - Writing video C:\\Users\\Muhammad Hussain\\Desktop\\test_rl_1\\vid_9.mp4\n",
      "\n"
     ]
    },
    {
     "name": "stderr",
     "output_type": "stream",
     "text": []
    },
    {
     "name": "stdout",
     "output_type": "stream",
     "text": [
      "Moviepy - Done !\n",
      "Moviepy - video ready C:\\Users\\Muhammad Hussain\\Desktop\\test_rl_1\\vid_9.mp4\n",
      "Folder already created\n",
      "Moviepy - Building video C:\\Users\\Muhammad Hussain\\Desktop\\test_rl_2\\vid_0.mp4.\n",
      "MoviePy - Writing audio in vid_0TEMP_MPY_wvf_snd.mp4\n"
     ]
    },
    {
     "name": "stderr",
     "output_type": "stream",
     "text": []
    },
    {
     "name": "stdout",
     "output_type": "stream",
     "text": [
      "MoviePy - Done.\n",
      "Moviepy - Writing video C:\\Users\\Muhammad Hussain\\Desktop\\test_rl_2\\vid_0.mp4\n",
      "\n"
     ]
    },
    {
     "name": "stderr",
     "output_type": "stream",
     "text": []
    },
    {
     "name": "stdout",
     "output_type": "stream",
     "text": [
      "Moviepy - Done !\n",
      "Moviepy - video ready C:\\Users\\Muhammad Hussain\\Desktop\\test_rl_2\\vid_0.mp4\n",
      "Moviepy - Building video C:\\Users\\Muhammad Hussain\\Desktop\\test_rl_2\\vid_1.mp4.\n",
      "MoviePy - Writing audio in vid_1TEMP_MPY_wvf_snd.mp4\n"
     ]
    },
    {
     "name": "stderr",
     "output_type": "stream",
     "text": []
    },
    {
     "name": "stdout",
     "output_type": "stream",
     "text": [
      "MoviePy - Done.\n",
      "Moviepy - Writing video C:\\Users\\Muhammad Hussain\\Desktop\\test_rl_2\\vid_1.mp4\n",
      "\n"
     ]
    },
    {
     "name": "stderr",
     "output_type": "stream",
     "text": []
    },
    {
     "name": "stdout",
     "output_type": "stream",
     "text": [
      "Moviepy - Done !\n",
      "Moviepy - video ready C:\\Users\\Muhammad Hussain\\Desktop\\test_rl_2\\vid_1.mp4\n",
      "Moviepy - Building video C:\\Users\\Muhammad Hussain\\Desktop\\test_rl_2\\vid_2.mp4.\n",
      "MoviePy - Writing audio in vid_2TEMP_MPY_wvf_snd.mp4\n"
     ]
    },
    {
     "name": "stderr",
     "output_type": "stream",
     "text": []
    },
    {
     "name": "stdout",
     "output_type": "stream",
     "text": [
      "MoviePy - Done.\n",
      "Moviepy - Writing video C:\\Users\\Muhammad Hussain\\Desktop\\test_rl_2\\vid_2.mp4\n",
      "\n"
     ]
    },
    {
     "name": "stderr",
     "output_type": "stream",
     "text": []
    },
    {
     "name": "stdout",
     "output_type": "stream",
     "text": [
      "Moviepy - Done !\n",
      "Moviepy - video ready C:\\Users\\Muhammad Hussain\\Desktop\\test_rl_2\\vid_2.mp4\n",
      "Moviepy - Building video C:\\Users\\Muhammad Hussain\\Desktop\\test_rl_2\\vid_3.mp4.\n",
      "MoviePy - Writing audio in vid_3TEMP_MPY_wvf_snd.mp4\n"
     ]
    },
    {
     "name": "stderr",
     "output_type": "stream",
     "text": []
    },
    {
     "name": "stdout",
     "output_type": "stream",
     "text": [
      "MoviePy - Done.\n",
      "Moviepy - Writing video C:\\Users\\Muhammad Hussain\\Desktop\\test_rl_2\\vid_3.mp4\n",
      "\n"
     ]
    },
    {
     "name": "stderr",
     "output_type": "stream",
     "text": []
    },
    {
     "name": "stdout",
     "output_type": "stream",
     "text": [
      "Moviepy - Done !\n",
      "Moviepy - video ready C:\\Users\\Muhammad Hussain\\Desktop\\test_rl_2\\vid_3.mp4\n",
      "Moviepy - Building video C:\\Users\\Muhammad Hussain\\Desktop\\test_rl_2\\vid_4.mp4.\n",
      "MoviePy - Writing audio in vid_4TEMP_MPY_wvf_snd.mp4\n"
     ]
    },
    {
     "name": "stderr",
     "output_type": "stream",
     "text": []
    },
    {
     "name": "stdout",
     "output_type": "stream",
     "text": [
      "MoviePy - Done.\n",
      "Moviepy - Writing video C:\\Users\\Muhammad Hussain\\Desktop\\test_rl_2\\vid_4.mp4\n",
      "\n"
     ]
    },
    {
     "name": "stderr",
     "output_type": "stream",
     "text": []
    },
    {
     "name": "stdout",
     "output_type": "stream",
     "text": [
      "Moviepy - Done !\n",
      "Moviepy - video ready C:\\Users\\Muhammad Hussain\\Desktop\\test_rl_2\\vid_4.mp4\n",
      "Moviepy - Building video C:\\Users\\Muhammad Hussain\\Desktop\\test_rl_2\\vid_5.mp4.\n",
      "MoviePy - Writing audio in vid_5TEMP_MPY_wvf_snd.mp4\n"
     ]
    },
    {
     "name": "stderr",
     "output_type": "stream",
     "text": []
    },
    {
     "name": "stdout",
     "output_type": "stream",
     "text": [
      "MoviePy - Done.\n",
      "Moviepy - Writing video C:\\Users\\Muhammad Hussain\\Desktop\\test_rl_2\\vid_5.mp4\n",
      "\n"
     ]
    },
    {
     "name": "stderr",
     "output_type": "stream",
     "text": []
    },
    {
     "name": "stdout",
     "output_type": "stream",
     "text": [
      "Moviepy - Done !\n",
      "Moviepy - video ready C:\\Users\\Muhammad Hussain\\Desktop\\test_rl_2\\vid_5.mp4\n",
      "Moviepy - Building video C:\\Users\\Muhammad Hussain\\Desktop\\test_rl_2\\vid_6.mp4.\n",
      "MoviePy - Writing audio in vid_6TEMP_MPY_wvf_snd.mp4\n"
     ]
    },
    {
     "name": "stderr",
     "output_type": "stream",
     "text": []
    },
    {
     "name": "stdout",
     "output_type": "stream",
     "text": [
      "MoviePy - Done.\n",
      "Moviepy - Writing video C:\\Users\\Muhammad Hussain\\Desktop\\test_rl_2\\vid_6.mp4\n",
      "\n"
     ]
    },
    {
     "name": "stderr",
     "output_type": "stream",
     "text": []
    },
    {
     "name": "stdout",
     "output_type": "stream",
     "text": [
      "Moviepy - Done !\n",
      "Moviepy - video ready C:\\Users\\Muhammad Hussain\\Desktop\\test_rl_2\\vid_6.mp4\n",
      "Moviepy - Building video C:\\Users\\Muhammad Hussain\\Desktop\\test_rl_2\\vid_7.mp4.\n",
      "MoviePy - Writing audio in vid_7TEMP_MPY_wvf_snd.mp4\n"
     ]
    },
    {
     "name": "stderr",
     "output_type": "stream",
     "text": []
    },
    {
     "name": "stdout",
     "output_type": "stream",
     "text": [
      "MoviePy - Done.\n",
      "Moviepy - Writing video C:\\Users\\Muhammad Hussain\\Desktop\\test_rl_2\\vid_7.mp4\n",
      "\n"
     ]
    },
    {
     "name": "stderr",
     "output_type": "stream",
     "text": []
    },
    {
     "name": "stdout",
     "output_type": "stream",
     "text": [
      "Moviepy - Done !\n",
      "Moviepy - video ready C:\\Users\\Muhammad Hussain\\Desktop\\test_rl_2\\vid_7.mp4\n",
      "Moviepy - Building video C:\\Users\\Muhammad Hussain\\Desktop\\test_rl_2\\vid_8.mp4.\n",
      "MoviePy - Writing audio in vid_8TEMP_MPY_wvf_snd.mp4\n"
     ]
    },
    {
     "name": "stderr",
     "output_type": "stream",
     "text": []
    },
    {
     "name": "stdout",
     "output_type": "stream",
     "text": [
      "MoviePy - Done.\n",
      "Moviepy - Writing video C:\\Users\\Muhammad Hussain\\Desktop\\test_rl_2\\vid_8.mp4\n",
      "\n"
     ]
    },
    {
     "name": "stderr",
     "output_type": "stream",
     "text": []
    },
    {
     "name": "stdout",
     "output_type": "stream",
     "text": [
      "Moviepy - Done !\n",
      "Moviepy - video ready C:\\Users\\Muhammad Hussain\\Desktop\\test_rl_2\\vid_8.mp4\n",
      "Moviepy - Building video C:\\Users\\Muhammad Hussain\\Desktop\\test_rl_2\\vid_9.mp4.\n",
      "MoviePy - Writing audio in vid_9TEMP_MPY_wvf_snd.mp4\n"
     ]
    },
    {
     "name": "stderr",
     "output_type": "stream",
     "text": []
    },
    {
     "name": "stdout",
     "output_type": "stream",
     "text": [
      "MoviePy - Done.\n",
      "Moviepy - Writing video C:\\Users\\Muhammad Hussain\\Desktop\\test_rl_2\\vid_9.mp4\n",
      "\n"
     ]
    },
    {
     "name": "stderr",
     "output_type": "stream",
     "text": []
    },
    {
     "name": "stdout",
     "output_type": "stream",
     "text": [
      "Moviepy - Done !\n",
      "Moviepy - video ready C:\\Users\\Muhammad Hussain\\Desktop\\test_rl_2\\vid_9.mp4\n",
      "Moviepy - Building video C:\\Users\\Muhammad Hussain\\Desktop\\test_rl_3\\vid_0.mp4.\n",
      "MoviePy - Writing audio in vid_0TEMP_MPY_wvf_snd.mp4\n"
     ]
    },
    {
     "name": "stderr",
     "output_type": "stream",
     "text": []
    },
    {
     "name": "stdout",
     "output_type": "stream",
     "text": [
      "MoviePy - Done.\n",
      "Moviepy - Writing video C:\\Users\\Muhammad Hussain\\Desktop\\test_rl_3\\vid_0.mp4\n",
      "\n"
     ]
    },
    {
     "name": "stderr",
     "output_type": "stream",
     "text": []
    },
    {
     "name": "stdout",
     "output_type": "stream",
     "text": [
      "Moviepy - Done !\n",
      "Moviepy - video ready C:\\Users\\Muhammad Hussain\\Desktop\\test_rl_3\\vid_0.mp4\n",
      "Moviepy - Building video C:\\Users\\Muhammad Hussain\\Desktop\\test_rl_3\\vid_1.mp4.\n",
      "MoviePy - Writing audio in vid_1TEMP_MPY_wvf_snd.mp4\n"
     ]
    },
    {
     "name": "stderr",
     "output_type": "stream",
     "text": []
    },
    {
     "name": "stdout",
     "output_type": "stream",
     "text": [
      "MoviePy - Done.\n",
      "Moviepy - Writing video C:\\Users\\Muhammad Hussain\\Desktop\\test_rl_3\\vid_1.mp4\n",
      "\n"
     ]
    },
    {
     "name": "stderr",
     "output_type": "stream",
     "text": []
    },
    {
     "name": "stdout",
     "output_type": "stream",
     "text": [
      "Moviepy - Done !\n",
      "Moviepy - video ready C:\\Users\\Muhammad Hussain\\Desktop\\test_rl_3\\vid_1.mp4\n",
      "Moviepy - Building video C:\\Users\\Muhammad Hussain\\Desktop\\test_rl_3\\vid_2.mp4.\n",
      "MoviePy - Writing audio in vid_2TEMP_MPY_wvf_snd.mp4\n"
     ]
    },
    {
     "name": "stderr",
     "output_type": "stream",
     "text": []
    },
    {
     "name": "stdout",
     "output_type": "stream",
     "text": [
      "MoviePy - Done.\n",
      "Moviepy - Writing video C:\\Users\\Muhammad Hussain\\Desktop\\test_rl_3\\vid_2.mp4\n",
      "\n"
     ]
    },
    {
     "name": "stderr",
     "output_type": "stream",
     "text": []
    },
    {
     "name": "stdout",
     "output_type": "stream",
     "text": [
      "Moviepy - Done !\n",
      "Moviepy - video ready C:\\Users\\Muhammad Hussain\\Desktop\\test_rl_3\\vid_2.mp4\n",
      "Moviepy - Building video C:\\Users\\Muhammad Hussain\\Desktop\\test_rl_3\\vid_3.mp4.\n",
      "MoviePy - Writing audio in vid_3TEMP_MPY_wvf_snd.mp4\n"
     ]
    },
    {
     "name": "stderr",
     "output_type": "stream",
     "text": []
    },
    {
     "name": "stdout",
     "output_type": "stream",
     "text": [
      "MoviePy - Done.\n",
      "Moviepy - Writing video C:\\Users\\Muhammad Hussain\\Desktop\\test_rl_3\\vid_3.mp4\n",
      "\n"
     ]
    },
    {
     "name": "stderr",
     "output_type": "stream",
     "text": []
    },
    {
     "name": "stdout",
     "output_type": "stream",
     "text": [
      "Moviepy - Done !\n",
      "Moviepy - video ready C:\\Users\\Muhammad Hussain\\Desktop\\test_rl_3\\vid_3.mp4\n",
      "Moviepy - Building video C:\\Users\\Muhammad Hussain\\Desktop\\test_rl_3\\vid_4.mp4.\n",
      "MoviePy - Writing audio in vid_4TEMP_MPY_wvf_snd.mp4\n"
     ]
    },
    {
     "name": "stderr",
     "output_type": "stream",
     "text": []
    },
    {
     "name": "stdout",
     "output_type": "stream",
     "text": [
      "MoviePy - Done.\n",
      "Moviepy - Writing video C:\\Users\\Muhammad Hussain\\Desktop\\test_rl_3\\vid_4.mp4\n",
      "\n"
     ]
    },
    {
     "name": "stderr",
     "output_type": "stream",
     "text": []
    },
    {
     "name": "stdout",
     "output_type": "stream",
     "text": [
      "Moviepy - Done !\n",
      "Moviepy - video ready C:\\Users\\Muhammad Hussain\\Desktop\\test_rl_3\\vid_4.mp4\n",
      "Moviepy - Building video C:\\Users\\Muhammad Hussain\\Desktop\\test_rl_3\\vid_5.mp4.\n",
      "MoviePy - Writing audio in vid_5TEMP_MPY_wvf_snd.mp4\n"
     ]
    },
    {
     "name": "stderr",
     "output_type": "stream",
     "text": []
    },
    {
     "name": "stdout",
     "output_type": "stream",
     "text": [
      "MoviePy - Done.\n",
      "Moviepy - Writing video C:\\Users\\Muhammad Hussain\\Desktop\\test_rl_3\\vid_5.mp4\n",
      "\n"
     ]
    },
    {
     "name": "stderr",
     "output_type": "stream",
     "text": []
    },
    {
     "name": "stdout",
     "output_type": "stream",
     "text": [
      "Moviepy - Done !\n",
      "Moviepy - video ready C:\\Users\\Muhammad Hussain\\Desktop\\test_rl_3\\vid_5.mp4\n",
      "Moviepy - Building video C:\\Users\\Muhammad Hussain\\Desktop\\test_rl_3\\vid_6.mp4.\n",
      "MoviePy - Writing audio in vid_6TEMP_MPY_wvf_snd.mp4\n"
     ]
    },
    {
     "name": "stderr",
     "output_type": "stream",
     "text": []
    },
    {
     "name": "stdout",
     "output_type": "stream",
     "text": [
      "MoviePy - Done.\n",
      "Moviepy - Writing video C:\\Users\\Muhammad Hussain\\Desktop\\test_rl_3\\vid_6.mp4\n",
      "\n"
     ]
    },
    {
     "name": "stderr",
     "output_type": "stream",
     "text": []
    },
    {
     "name": "stdout",
     "output_type": "stream",
     "text": [
      "Moviepy - Done !\n",
      "Moviepy - video ready C:\\Users\\Muhammad Hussain\\Desktop\\test_rl_3\\vid_6.mp4\n",
      "Moviepy - Building video C:\\Users\\Muhammad Hussain\\Desktop\\test_rl_3\\vid_7.mp4.\n",
      "MoviePy - Writing audio in vid_7TEMP_MPY_wvf_snd.mp4\n"
     ]
    },
    {
     "name": "stderr",
     "output_type": "stream",
     "text": []
    },
    {
     "name": "stdout",
     "output_type": "stream",
     "text": [
      "MoviePy - Done.\n",
      "Moviepy - Writing video C:\\Users\\Muhammad Hussain\\Desktop\\test_rl_3\\vid_7.mp4\n",
      "\n"
     ]
    },
    {
     "name": "stderr",
     "output_type": "stream",
     "text": []
    },
    {
     "name": "stdout",
     "output_type": "stream",
     "text": [
      "Moviepy - Done !\n",
      "Moviepy - video ready C:\\Users\\Muhammad Hussain\\Desktop\\test_rl_3\\vid_7.mp4\n",
      "Moviepy - Building video C:\\Users\\Muhammad Hussain\\Desktop\\test_rl_3\\vid_8.mp4.\n",
      "MoviePy - Writing audio in vid_8TEMP_MPY_wvf_snd.mp4\n"
     ]
    },
    {
     "name": "stderr",
     "output_type": "stream",
     "text": []
    },
    {
     "name": "stdout",
     "output_type": "stream",
     "text": [
      "MoviePy - Done.\n",
      "Moviepy - Writing video C:\\Users\\Muhammad Hussain\\Desktop\\test_rl_3\\vid_8.mp4\n",
      "\n"
     ]
    },
    {
     "name": "stderr",
     "output_type": "stream",
     "text": []
    },
    {
     "name": "stdout",
     "output_type": "stream",
     "text": [
      "Moviepy - Done !\n",
      "Moviepy - video ready C:\\Users\\Muhammad Hussain\\Desktop\\test_rl_3\\vid_8.mp4\n",
      "Moviepy - Building video C:\\Users\\Muhammad Hussain\\Desktop\\test_rl_3\\vid_9.mp4.\n",
      "MoviePy - Writing audio in vid_9TEMP_MPY_wvf_snd.mp4\n"
     ]
    },
    {
     "name": "stderr",
     "output_type": "stream",
     "text": []
    },
    {
     "name": "stdout",
     "output_type": "stream",
     "text": [
      "MoviePy - Done.\n",
      "Moviepy - Writing video C:\\Users\\Muhammad Hussain\\Desktop\\test_rl_3\\vid_9.mp4\n",
      "\n"
     ]
    },
    {
     "name": "stderr",
     "output_type": "stream",
     "text": []
    },
    {
     "name": "stdout",
     "output_type": "stream",
     "text": [
      "Moviepy - Done !\n",
      "Moviepy - video ready C:\\Users\\Muhammad Hussain\\Desktop\\test_rl_3\\vid_9.mp4\n",
      "Moviepy - Building video C:\\Users\\Muhammad Hussain\\Desktop\\test_rl_4\\vid_0.mp4.\n",
      "MoviePy - Writing audio in vid_0TEMP_MPY_wvf_snd.mp4\n"
     ]
    },
    {
     "name": "stderr",
     "output_type": "stream",
     "text": []
    },
    {
     "name": "stdout",
     "output_type": "stream",
     "text": [
      "MoviePy - Done.\n",
      "Moviepy - Writing video C:\\Users\\Muhammad Hussain\\Desktop\\test_rl_4\\vid_0.mp4\n",
      "\n"
     ]
    },
    {
     "name": "stderr",
     "output_type": "stream",
     "text": []
    },
    {
     "name": "stdout",
     "output_type": "stream",
     "text": [
      "Moviepy - Done !\n",
      "Moviepy - video ready C:\\Users\\Muhammad Hussain\\Desktop\\test_rl_4\\vid_0.mp4\n",
      "Moviepy - Building video C:\\Users\\Muhammad Hussain\\Desktop\\test_rl_4\\vid_1.mp4.\n",
      "MoviePy - Writing audio in vid_1TEMP_MPY_wvf_snd.mp4\n"
     ]
    },
    {
     "name": "stderr",
     "output_type": "stream",
     "text": []
    },
    {
     "name": "stdout",
     "output_type": "stream",
     "text": [
      "MoviePy - Done.\n",
      "Moviepy - Writing video C:\\Users\\Muhammad Hussain\\Desktop\\test_rl_4\\vid_1.mp4\n",
      "\n"
     ]
    },
    {
     "name": "stderr",
     "output_type": "stream",
     "text": []
    },
    {
     "name": "stdout",
     "output_type": "stream",
     "text": [
      "Moviepy - Done !\n",
      "Moviepy - video ready C:\\Users\\Muhammad Hussain\\Desktop\\test_rl_4\\vid_1.mp4\n",
      "Moviepy - Building video C:\\Users\\Muhammad Hussain\\Desktop\\test_rl_4\\vid_2.mp4.\n",
      "MoviePy - Writing audio in vid_2TEMP_MPY_wvf_snd.mp4\n"
     ]
    },
    {
     "name": "stderr",
     "output_type": "stream",
     "text": []
    },
    {
     "name": "stdout",
     "output_type": "stream",
     "text": [
      "MoviePy - Done.\n",
      "Moviepy - Writing video C:\\Users\\Muhammad Hussain\\Desktop\\test_rl_4\\vid_2.mp4\n",
      "\n"
     ]
    },
    {
     "name": "stderr",
     "output_type": "stream",
     "text": []
    },
    {
     "name": "stdout",
     "output_type": "stream",
     "text": [
      "Moviepy - Done !\n",
      "Moviepy - video ready C:\\Users\\Muhammad Hussain\\Desktop\\test_rl_4\\vid_2.mp4\n",
      "Moviepy - Building video C:\\Users\\Muhammad Hussain\\Desktop\\test_rl_4\\vid_3.mp4.\n",
      "MoviePy - Writing audio in vid_3TEMP_MPY_wvf_snd.mp4\n"
     ]
    },
    {
     "name": "stderr",
     "output_type": "stream",
     "text": []
    },
    {
     "name": "stdout",
     "output_type": "stream",
     "text": [
      "MoviePy - Done.\n",
      "Moviepy - Writing video C:\\Users\\Muhammad Hussain\\Desktop\\test_rl_4\\vid_3.mp4\n",
      "\n"
     ]
    },
    {
     "name": "stderr",
     "output_type": "stream",
     "text": []
    },
    {
     "name": "stdout",
     "output_type": "stream",
     "text": [
      "Moviepy - Done !\n",
      "Moviepy - video ready C:\\Users\\Muhammad Hussain\\Desktop\\test_rl_4\\vid_3.mp4\n",
      "Moviepy - Building video C:\\Users\\Muhammad Hussain\\Desktop\\test_rl_4\\vid_4.mp4.\n",
      "MoviePy - Writing audio in vid_4TEMP_MPY_wvf_snd.mp4\n"
     ]
    },
    {
     "name": "stderr",
     "output_type": "stream",
     "text": []
    },
    {
     "name": "stdout",
     "output_type": "stream",
     "text": [
      "MoviePy - Done.\n",
      "Moviepy - Writing video C:\\Users\\Muhammad Hussain\\Desktop\\test_rl_4\\vid_4.mp4\n",
      "\n"
     ]
    },
    {
     "name": "stderr",
     "output_type": "stream",
     "text": []
    },
    {
     "name": "stdout",
     "output_type": "stream",
     "text": [
      "Moviepy - Done !\n",
      "Moviepy - video ready C:\\Users\\Muhammad Hussain\\Desktop\\test_rl_4\\vid_4.mp4\n",
      "Moviepy - Building video C:\\Users\\Muhammad Hussain\\Desktop\\test_rl_4\\vid_5.mp4.\n",
      "MoviePy - Writing audio in vid_5TEMP_MPY_wvf_snd.mp4\n"
     ]
    },
    {
     "name": "stderr",
     "output_type": "stream",
     "text": []
    },
    {
     "name": "stdout",
     "output_type": "stream",
     "text": [
      "MoviePy - Done.\n",
      "Moviepy - Writing video C:\\Users\\Muhammad Hussain\\Desktop\\test_rl_4\\vid_5.mp4\n",
      "\n"
     ]
    },
    {
     "name": "stderr",
     "output_type": "stream",
     "text": []
    },
    {
     "name": "stdout",
     "output_type": "stream",
     "text": [
      "Moviepy - Done !\n",
      "Moviepy - video ready C:\\Users\\Muhammad Hussain\\Desktop\\test_rl_4\\vid_5.mp4\n",
      "Moviepy - Building video C:\\Users\\Muhammad Hussain\\Desktop\\test_rl_4\\vid_6.mp4.\n",
      "MoviePy - Writing audio in vid_6TEMP_MPY_wvf_snd.mp4\n"
     ]
    },
    {
     "name": "stderr",
     "output_type": "stream",
     "text": []
    },
    {
     "name": "stdout",
     "output_type": "stream",
     "text": [
      "MoviePy - Done.\n",
      "Moviepy - Writing video C:\\Users\\Muhammad Hussain\\Desktop\\test_rl_4\\vid_6.mp4\n",
      "\n"
     ]
    },
    {
     "name": "stderr",
     "output_type": "stream",
     "text": []
    },
    {
     "name": "stdout",
     "output_type": "stream",
     "text": [
      "Moviepy - Done !\n",
      "Moviepy - video ready C:\\Users\\Muhammad Hussain\\Desktop\\test_rl_4\\vid_6.mp4\n",
      "Moviepy - Building video C:\\Users\\Muhammad Hussain\\Desktop\\test_rl_4\\vid_7.mp4.\n",
      "MoviePy - Writing audio in vid_7TEMP_MPY_wvf_snd.mp4\n"
     ]
    },
    {
     "name": "stderr",
     "output_type": "stream",
     "text": []
    },
    {
     "name": "stdout",
     "output_type": "stream",
     "text": [
      "MoviePy - Done.\n",
      "Moviepy - Writing video C:\\Users\\Muhammad Hussain\\Desktop\\test_rl_4\\vid_7.mp4\n",
      "\n"
     ]
    },
    {
     "name": "stderr",
     "output_type": "stream",
     "text": []
    },
    {
     "name": "stdout",
     "output_type": "stream",
     "text": [
      "Moviepy - Done !\n",
      "Moviepy - video ready C:\\Users\\Muhammad Hussain\\Desktop\\test_rl_4\\vid_7.mp4\n",
      "Moviepy - Building video C:\\Users\\Muhammad Hussain\\Desktop\\test_rl_4\\vid_8.mp4.\n",
      "MoviePy - Writing audio in vid_8TEMP_MPY_wvf_snd.mp4\n"
     ]
    },
    {
     "name": "stderr",
     "output_type": "stream",
     "text": []
    },
    {
     "name": "stdout",
     "output_type": "stream",
     "text": [
      "MoviePy - Done.\n",
      "Moviepy - Writing video C:\\Users\\Muhammad Hussain\\Desktop\\test_rl_4\\vid_8.mp4\n",
      "\n"
     ]
    },
    {
     "name": "stderr",
     "output_type": "stream",
     "text": []
    },
    {
     "name": "stdout",
     "output_type": "stream",
     "text": [
      "Moviepy - Done !\n",
      "Moviepy - video ready C:\\Users\\Muhammad Hussain\\Desktop\\test_rl_4\\vid_8.mp4\n",
      "Moviepy - Building video C:\\Users\\Muhammad Hussain\\Desktop\\test_rl_4\\vid_9.mp4.\n",
      "MoviePy - Writing audio in vid_9TEMP_MPY_wvf_snd.mp4\n"
     ]
    },
    {
     "name": "stderr",
     "output_type": "stream",
     "text": []
    },
    {
     "name": "stdout",
     "output_type": "stream",
     "text": [
      "MoviePy - Done.\n",
      "Moviepy - Writing video C:\\Users\\Muhammad Hussain\\Desktop\\test_rl_4\\vid_9.mp4\n",
      "\n"
     ]
    },
    {
     "name": "stderr",
     "output_type": "stream",
     "text": []
    },
    {
     "name": "stdout",
     "output_type": "stream",
     "text": [
      "Moviepy - Done !\n",
      "Moviepy - video ready C:\\Users\\Muhammad Hussain\\Desktop\\test_rl_4\\vid_9.mp4\n",
      "Moviepy - Building video C:\\Users\\Muhammad Hussain\\Desktop\\test_rl_5\\vid_0.mp4.\n",
      "MoviePy - Writing audio in vid_0TEMP_MPY_wvf_snd.mp4\n"
     ]
    },
    {
     "name": "stderr",
     "output_type": "stream",
     "text": []
    },
    {
     "name": "stdout",
     "output_type": "stream",
     "text": [
      "MoviePy - Done.\n",
      "Moviepy - Writing video C:\\Users\\Muhammad Hussain\\Desktop\\test_rl_5\\vid_0.mp4\n",
      "\n"
     ]
    },
    {
     "name": "stderr",
     "output_type": "stream",
     "text": []
    },
    {
     "name": "stdout",
     "output_type": "stream",
     "text": [
      "Moviepy - Done !\n",
      "Moviepy - video ready C:\\Users\\Muhammad Hussain\\Desktop\\test_rl_5\\vid_0.mp4\n",
      "Moviepy - Building video C:\\Users\\Muhammad Hussain\\Desktop\\test_rl_5\\vid_1.mp4.\n",
      "MoviePy - Writing audio in vid_1TEMP_MPY_wvf_snd.mp4\n"
     ]
    },
    {
     "name": "stderr",
     "output_type": "stream",
     "text": []
    },
    {
     "name": "stdout",
     "output_type": "stream",
     "text": [
      "MoviePy - Done.\n",
      "Moviepy - Writing video C:\\Users\\Muhammad Hussain\\Desktop\\test_rl_5\\vid_1.mp4\n",
      "\n"
     ]
    },
    {
     "name": "stderr",
     "output_type": "stream",
     "text": []
    },
    {
     "name": "stdout",
     "output_type": "stream",
     "text": [
      "Moviepy - Done !\n",
      "Moviepy - video ready C:\\Users\\Muhammad Hussain\\Desktop\\test_rl_5\\vid_1.mp4\n",
      "Moviepy - Building video C:\\Users\\Muhammad Hussain\\Desktop\\test_rl_5\\vid_2.mp4.\n",
      "MoviePy - Writing audio in vid_2TEMP_MPY_wvf_snd.mp4\n"
     ]
    },
    {
     "name": "stderr",
     "output_type": "stream",
     "text": []
    },
    {
     "name": "stdout",
     "output_type": "stream",
     "text": [
      "MoviePy - Done.\n",
      "Moviepy - Writing video C:\\Users\\Muhammad Hussain\\Desktop\\test_rl_5\\vid_2.mp4\n",
      "\n"
     ]
    },
    {
     "name": "stderr",
     "output_type": "stream",
     "text": []
    },
    {
     "name": "stdout",
     "output_type": "stream",
     "text": [
      "Moviepy - Done !\n",
      "Moviepy - video ready C:\\Users\\Muhammad Hussain\\Desktop\\test_rl_5\\vid_2.mp4\n",
      "Moviepy - Building video C:\\Users\\Muhammad Hussain\\Desktop\\test_rl_5\\vid_3.mp4.\n",
      "MoviePy - Writing audio in vid_3TEMP_MPY_wvf_snd.mp4\n"
     ]
    },
    {
     "name": "stderr",
     "output_type": "stream",
     "text": []
    },
    {
     "name": "stdout",
     "output_type": "stream",
     "text": [
      "MoviePy - Done.\n",
      "Moviepy - Writing video C:\\Users\\Muhammad Hussain\\Desktop\\test_rl_5\\vid_3.mp4\n",
      "\n"
     ]
    },
    {
     "name": "stderr",
     "output_type": "stream",
     "text": []
    },
    {
     "name": "stdout",
     "output_type": "stream",
     "text": [
      "Moviepy - Done !\n",
      "Moviepy - video ready C:\\Users\\Muhammad Hussain\\Desktop\\test_rl_5\\vid_3.mp4\n",
      "Moviepy - Building video C:\\Users\\Muhammad Hussain\\Desktop\\test_rl_5\\vid_4.mp4.\n",
      "MoviePy - Writing audio in vid_4TEMP_MPY_wvf_snd.mp4\n"
     ]
    },
    {
     "name": "stderr",
     "output_type": "stream",
     "text": []
    },
    {
     "name": "stdout",
     "output_type": "stream",
     "text": [
      "MoviePy - Done.\n",
      "Moviepy - Writing video C:\\Users\\Muhammad Hussain\\Desktop\\test_rl_5\\vid_4.mp4\n",
      "\n"
     ]
    },
    {
     "name": "stderr",
     "output_type": "stream",
     "text": []
    },
    {
     "name": "stdout",
     "output_type": "stream",
     "text": [
      "Moviepy - Done !\n",
      "Moviepy - video ready C:\\Users\\Muhammad Hussain\\Desktop\\test_rl_5\\vid_4.mp4\n",
      "Moviepy - Building video C:\\Users\\Muhammad Hussain\\Desktop\\test_rl_5\\vid_5.mp4.\n",
      "MoviePy - Writing audio in vid_5TEMP_MPY_wvf_snd.mp4\n"
     ]
    },
    {
     "name": "stderr",
     "output_type": "stream",
     "text": []
    },
    {
     "name": "stdout",
     "output_type": "stream",
     "text": [
      "MoviePy - Done.\n",
      "Moviepy - Writing video C:\\Users\\Muhammad Hussain\\Desktop\\test_rl_5\\vid_5.mp4\n",
      "\n"
     ]
    },
    {
     "name": "stderr",
     "output_type": "stream",
     "text": []
    },
    {
     "name": "stdout",
     "output_type": "stream",
     "text": [
      "Moviepy - Done !\n",
      "Moviepy - video ready C:\\Users\\Muhammad Hussain\\Desktop\\test_rl_5\\vid_5.mp4\n",
      "Moviepy - Building video C:\\Users\\Muhammad Hussain\\Desktop\\test_rl_5\\vid_6.mp4.\n",
      "MoviePy - Writing audio in vid_6TEMP_MPY_wvf_snd.mp4\n"
     ]
    },
    {
     "name": "stderr",
     "output_type": "stream",
     "text": []
    },
    {
     "name": "stdout",
     "output_type": "stream",
     "text": [
      "MoviePy - Done.\n",
      "Moviepy - Writing video C:\\Users\\Muhammad Hussain\\Desktop\\test_rl_5\\vid_6.mp4\n",
      "\n"
     ]
    },
    {
     "name": "stderr",
     "output_type": "stream",
     "text": []
    },
    {
     "name": "stdout",
     "output_type": "stream",
     "text": [
      "Moviepy - Done !\n",
      "Moviepy - video ready C:\\Users\\Muhammad Hussain\\Desktop\\test_rl_5\\vid_6.mp4\n",
      "Moviepy - Building video C:\\Users\\Muhammad Hussain\\Desktop\\test_rl_5\\vid_7.mp4.\n",
      "MoviePy - Writing audio in vid_7TEMP_MPY_wvf_snd.mp4\n"
     ]
    },
    {
     "name": "stderr",
     "output_type": "stream",
     "text": []
    },
    {
     "name": "stdout",
     "output_type": "stream",
     "text": [
      "MoviePy - Done.\n",
      "Moviepy - Writing video C:\\Users\\Muhammad Hussain\\Desktop\\test_rl_5\\vid_7.mp4\n",
      "\n"
     ]
    },
    {
     "name": "stderr",
     "output_type": "stream",
     "text": []
    },
    {
     "name": "stdout",
     "output_type": "stream",
     "text": [
      "Moviepy - Done !\n",
      "Moviepy - video ready C:\\Users\\Muhammad Hussain\\Desktop\\test_rl_5\\vid_7.mp4\n",
      "Moviepy - Building video C:\\Users\\Muhammad Hussain\\Desktop\\test_rl_5\\vid_8.mp4.\n",
      "MoviePy - Writing audio in vid_8TEMP_MPY_wvf_snd.mp4\n"
     ]
    },
    {
     "name": "stderr",
     "output_type": "stream",
     "text": []
    },
    {
     "name": "stdout",
     "output_type": "stream",
     "text": [
      "MoviePy - Done.\n",
      "Moviepy - Writing video C:\\Users\\Muhammad Hussain\\Desktop\\test_rl_5\\vid_8.mp4\n",
      "\n"
     ]
    },
    {
     "name": "stderr",
     "output_type": "stream",
     "text": []
    },
    {
     "name": "stdout",
     "output_type": "stream",
     "text": [
      "Moviepy - Done !\n",
      "Moviepy - video ready C:\\Users\\Muhammad Hussain\\Desktop\\test_rl_5\\vid_8.mp4\n",
      "Moviepy - Building video C:\\Users\\Muhammad Hussain\\Desktop\\test_rl_5\\vid_9.mp4.\n",
      "MoviePy - Writing audio in vid_9TEMP_MPY_wvf_snd.mp4\n"
     ]
    },
    {
     "name": "stderr",
     "output_type": "stream",
     "text": []
    },
    {
     "name": "stdout",
     "output_type": "stream",
     "text": [
      "MoviePy - Done.\n",
      "Moviepy - Writing video C:\\Users\\Muhammad Hussain\\Desktop\\test_rl_5\\vid_9.mp4\n",
      "\n"
     ]
    },
    {
     "name": "stderr",
     "output_type": "stream",
     "text": []
    },
    {
     "name": "stdout",
     "output_type": "stream",
     "text": [
      "Moviepy - Done !\n",
      "Moviepy - video ready C:\\Users\\Muhammad Hussain\\Desktop\\test_rl_5\\vid_9.mp4\n"
     ]
    },
    {
     "data": {
      "text/plain": [
       "True"
      ]
     },
     "execution_count": 20,
     "metadata": {},
     "output_type": "execute_result"
    }
   ],
   "source": [
    "from moviepy.video.io.VideoFileClip import VideoFileClip\n",
    "def video_folder_create(path,video_folder_name,video_name):\n",
    "    video_folder_path=os.path.join(path,video_folder_name)\n",
    "    try:\n",
    "        os.mkdir(os.path.join(path,video_folder_name))\n",
    "    except:\n",
    "        print(\"Folder already created\")\n",
    "    input_video_path=os.path.join(path,video_name)\n",
    "    times=[[0,5],[6,10],[11,15],[16,20],[21,25],[26,30],[31,35],[36,40],[41,45],[46,50]]\n",
    "    for i in np.arange(len(times)):\n",
    "        vid_name=\"vid_%d.mp4\" % i\n",
    "        output_video_path=os.path.join(video_folder_path,vid_name)\n",
    "        with VideoFileClip(input_video_path) as video:\n",
    "            new = video.subclip(times[i][0], times[i][1])\n",
    "            new.write_videofile(output_video_path,audio_codec='aac')\n",
    "    return True\n",
    "\n",
    "# Creating 5 folders for 5 test videos:\n",
    "video_folder_create(path,'test_rl_1','test_rl_1.mp4')\n",
    "video_folder_create(path,'test_rl_2','test_rl_2.mp4')\n",
    "video_folder_create(path,'test_rl_3','test_rl_3.mp4')\n",
    "video_folder_create(path,'test_rl_4','test_rl_4.mp4')\n",
    "video_folder_create(path,'test_rl_5','test_rl_5.mp4')\n",
    "\n",
    "\n"
   ]
  },
  {
   "cell_type": "markdown",
   "metadata": {},
   "source": [
    "Real Time Prediction Function:\n",
    "---"
   ]
  },
  {
   "cell_type": "code",
   "execution_count": 63,
   "metadata": {},
   "outputs": [],
   "source": [
    "\n",
    "def real_time_prediction(path,video_folder_name):\n",
    "    folder_path=os.path.join(path,video_folder_name)\n",
    "    video_list=os.listdir(folder_path)\n",
    "    prediction_list_1=[]\n",
    "    prediction_list_2=[]\n",
    "    prediction_list_3=[]\n",
    "    for i in np.arange(len(video_list)):\n",
    "        video_path=os.path.join(folder_path,video_list[i])\n",
    "        cap=cv2.VideoCapture(video_path)\n",
    "        cap.set(cv2.CAP_PROP_FPS, 1)\n",
    "        frameRate=cap.get(5)\n",
    "        x=1\n",
    "        count=0\n",
    "        frame_saved=[]\n",
    "        while(cap.isOpened()):\n",
    "            frameId = cap.get(1) #current frame number\n",
    "            ret, frame = cap.read()\n",
    "            if (ret != True):\n",
    "                break\n",
    "            if (frameId % math.floor(frameRate) == 0):\n",
    "                frame_grey=cv2.cvtColor(frame, cv2.COLOR_BGR2GRAY)\n",
    "                frame_grey=cv2.resize(frame_grey,(250,250))\n",
    "                frame_grey=frame_grey/255\n",
    "                frame_saved.append(frame_grey)\n",
    "        cap.release()\n",
    "        frame_diff=10-len(frame_saved)\n",
    "        if frame_diff>0:\n",
    "            for k in np.arange(frame_diff):\n",
    "                frame_saved.append(frame_saved[k])\n",
    "        else:\n",
    "            pass\n",
    "        frame_saved=frame_saved[:10]\n",
    "        frame_saved=np.array(frame_saved)\n",
    "        dats=frame_saved.reshape((1,10,250,250,1))\n",
    "        prediction_list_1.append(modelu_cnlst_1.predict(dats))\n",
    "        prediction_list_2.append(modelu_cnlst_2.predict(dats))\n",
    "        prediction_list_3.append(modelu_6.predict(dats))\n",
    "    return prediction_list_1,prediction_list_2"
   ]
  },
  {
   "cell_type": "markdown",
   "metadata": {},
   "source": [
    "1st Video Predictions:\n",
    "---"
   ]
  },
  {
   "cell_type": "code",
   "execution_count": 64,
   "metadata": {},
   "outputs": [
    {
     "data": {
      "image/png": "[encoded data removed]",
      "text/plain": [
       "<Figure size 432x288 with 1 Axes>"
      ]
     },
     "metadata": {
      "needs_background": "light"
     },
     "output_type": "display_data"
    }
   ],
   "source": [
    "# video_folder_create(path,'test_rl_1','test_rl_1.mp4')\n",
    "prediction_model_1,prediction_model_2=real_time_prediction(path,\"test_rl_1\")\n",
    "predu_1=[]\n",
    "for i in prediction_model_1:\n",
    "    predu_1.append(list(i[0])[0])\n",
    "predu_2=[]\n",
    "for i in prediction_model_2:\n",
    "    predu_2.append(list(i[0])[0])\n",
    "predu_3=[]\n",
    "for i in prediction_model_3:\n",
    "    predu_3.append(list(i[0])[0])\n",
    "times=[[0,5],[6,10],[11,15],[16,20],[21,25],[26,30],[31,35],[36,40],[41,45],[46,50]]\n",
    "time_axis=[]\n",
    "for i in times:\n",
    "    time_axis.append(str(i[0])+\"_\"+str(i[1]))\n",
    "    \n",
    "main_preds=0.6*(np.array(predu_1))+0.4*(np.array(predu_2))\n",
    "\n",
    "\n",
    "    \n",
    "plt.figure()\n",
    "plt.plot(time_axis,main_preds,\"-o\")\n",
    "plt.xlabel(\"Time slots of video in Seconds\")\n",
    "plt.xticks(rotation=60)\n",
    "plt.ylabel(\"Predictions\")\n",
    "plt.title(\"Model_Predictions\")\n",
    "plt.show()"
   ]
  },
  {
   "cell_type": "markdown",
   "metadata": {},
   "source": [
    "2nd Video Predictions:\n",
    "---"
   ]
  },
  {
   "cell_type": "code",
   "execution_count": 65,
   "metadata": {},
   "outputs": [
    {
     "data": {
      "image/png": "[encoded data removed]",
      "text/plain": [
       "<Figure size 432x288 with 1 Axes>"
      ]
     },
     "metadata": {
      "needs_background": "light"
     },
     "output_type": "display_data"
    }
   ],
   "source": [
    "prediction_model_1,prediction_model_2=real_time_prediction(path,\"test_rl_2\")\n",
    "predu_1=[]\n",
    "for i in prediction_model_1:\n",
    "    predu_1.append(list(i[0])[0])\n",
    "predu_2=[]\n",
    "for i in prediction_model_2:\n",
    "    predu_2.append(list(i[0])[0])\n",
    "times=[[0,5],[6,10],[11,15],[16,20],[21,25],[26,30],[31,35],[36,40],[41,45],[46,50]]\n",
    "time_axis=[]\n",
    "for i in times:\n",
    "    time_axis.append(str(i[0])+\"_\"+str(i[1]))\n",
    "    \n",
    "# main_preds=np.average(np.array([predu_1,predu_2]),axis=0)\n",
    "main_preds=0.6*(np.array(predu_1))+0.4*(np.array(predu_2))\n",
    "\n",
    "    \n",
    "plt.figure()\n",
    "plt.plot(time_axis,main_preds,\"-o\")\n",
    "plt.xlabel(\"Time slots of video in Seconds\")\n",
    "plt.xticks(rotation=60)\n",
    "plt.ylabel(\"Predictions\")\n",
    "plt.title(\"Model_Predictions\")\n",
    "plt.show()"
   ]
  },
  {
   "cell_type": "markdown",
   "metadata": {},
   "source": [
    "3rd Video Predictions:\n",
    "---"
   ]
  },
  {
   "cell_type": "code",
   "execution_count": 66,
   "metadata": {},
   "outputs": [
    {
     "data": {
      "image/png": "[encoded data removed]",
      "text/plain": [
       "<Figure size 432x288 with 1 Axes>"
      ]
     },
     "metadata": {
      "needs_background": "light"
     },
     "output_type": "display_data"
    }
   ],
   "source": [
    "prediction_model_1,prediction_model_2=real_time_prediction(path,\"test_rl_3\")\n",
    "predu_1=[]\n",
    "for i in prediction_model_1:\n",
    "    predu_1.append(list(i[0])[0])\n",
    "predu_2=[]\n",
    "for i in prediction_model_2:\n",
    "    predu_2.append(list(i[0])[0])\n",
    "times=[[0,5],[6,10],[11,15],[16,20],[21,25],[26,30],[31,35],[36,40],[41,45],[46,50]]\n",
    "time_axis=[]\n",
    "for i in times:\n",
    "    time_axis.append(str(i[0])+\"_\"+str(i[1]))\n",
    "    \n",
    "# main_preds=np.average(np.array([predu_1,predu_2]),axis=0)\n",
    "main_preds=0.6*(np.array(predu_1))+0.4*(np.array(predu_2))\n",
    "\n",
    "    \n",
    "plt.figure()\n",
    "plt.plot(time_axis,main_preds,\"-o\")\n",
    "plt.xlabel(\"Time slots of video in Seconds\")\n",
    "plt.xticks(rotation=60)\n",
    "plt.ylabel(\"Predictions\")\n",
    "plt.title(\"Model_Predictions\")\n",
    "plt.show()"
   ]
  },
  {
   "cell_type": "markdown",
   "metadata": {},
   "source": [
    "4th Video Predictions:\n",
    "---"
   ]
  },
  {
   "cell_type": "code",
   "execution_count": 68,
   "metadata": {},
   "outputs": [
    {
     "data": {
      "image/png": "[encoded data removed]",
      "text/plain": [
       "<Figure size 432x288 with 1 Axes>"
      ]
     },
     "metadata": {
      "needs_background": "light"
     },
     "output_type": "display_data"
    }
   ],
   "source": [
    "prediction_model_1,prediction_model_2=real_time_prediction(path,\"test_rl_4\")\n",
    "predu_1=[]\n",
    "for i in prediction_model_1:\n",
    "    predu_1.append(list(i[0])[0])\n",
    "predu_2=[]\n",
    "for i in prediction_model_2:\n",
    "    predu_2.append(list(i[0])[0])\n",
    "times=[[0,5],[6,10],[11,15],[16,20],[21,25],[26,30],[31,35],[36,40],[41,45],[46,50]]\n",
    "time_axis=[]\n",
    "for i in times:\n",
    "    time_axis.append(str(i[0])+\"_\"+str(i[1]))\n",
    "    \n",
    "# main_preds=np.average(np.array([predu_1,predu_2]),axis=0)\n",
    "main_preds=0.6*(np.array(predu_1))+0.4*(np.array(predu_2))\n",
    "\n",
    "    \n",
    "plt.figure()\n",
    "plt.plot(time_axis,main_preds,\"-o\")\n",
    "plt.xlabel(\"Time slots of video in Seconds\")\n",
    "plt.xticks(rotation=60)\n",
    "plt.ylabel(\"Predictions\")\n",
    "plt.title(\"Model_Predictions\")\n",
    "plt.show()"
   ]
  },
  {
   "cell_type": "markdown",
   "metadata": {},
   "source": [
    "5th Video Predictions:\n",
    "---"
   ]
  },
  {
   "cell_type": "code",
   "execution_count": 74,
   "metadata": {},
   "outputs": [
    {
     "data": {
      "image/png": "[encoded data removed]",
      "text/plain": [
       "<Figure size 432x288 with 1 Axes>"
      ]
     },
     "metadata": {
      "needs_background": "light"
     },
     "output_type": "display_data"
    }
   ],
   "source": [
    "prediction_model_1,prediction_model_2=real_time_prediction(path,\"test_rl_5\")\n",
    "predu_1=[]\n",
    "for i in prediction_model_1:\n",
    "    predu_1.append(list(i[0])[0])\n",
    "predu_2=[]\n",
    "for i in prediction_model_2:\n",
    "    predu_2.append(list(i[0])[0])\n",
    "times=[[0,5],[6,10],[11,15],[16,20],[21,25],[26,30],[31,35],[36,40],[41,45],[46,50]]\n",
    "time_axis=[]\n",
    "for i in times:\n",
    "    time_axis.append(str(i[0])+\"_\"+str(i[1]))\n",
    "    \n",
    "# main_preds=np.average(np.array([predu_1,predu_2]),axis=0)\n",
    "main_preds=0.6*(np.array(predu_1))+0.4*(np.array(predu_2))\n",
    "\n",
    "    \n",
    "plt.figure()\n",
    "plt.plot(time_axis,main_preds,\"-o\")\n",
    "plt.xlabel(\"Time slots of video in Seconds\")\n",
    "plt.xticks(rotation=60)\n",
    "plt.ylabel(\"Predictions\")\n",
    "plt.title(\"Model_Predictions\")\n",
    "plt.show()"
   ]
  }
 ],
 "metadata": {
  "kernelspec": {
   "display_name": "Python 3",
   "language": "python",
   "name": "python3"
  },
  "language_info": {
   "codemirror_mode": {
    "name": "ipython",
    "version": 3
   },
   "file_extension": ".py",
   "mimetype": "text/x-python",
   "name": "python",
   "nbconvert_exporter": "python",
   "pygments_lexer": "ipython3",
   "version": "3.7.3"
  }
 },
 "nbformat": 4,
 "nbformat_minor": 2
}
